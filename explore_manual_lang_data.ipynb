{
 "cells": [
  {
   "cell_type": "markdown",
   "metadata": {},
   "source": [
    "# Explore historical language data for top languages\n",
    "\n",
    "Come up with a better method to pre-process the data once we have the large data set (probably one person creates the file, emails it, and the file type is git-ignored)."
   ]
  },
  {
   "cell_type": "code",
   "execution_count": null,
   "metadata": {},
   "outputs": [],
   "source": [
    "import pandas as pd\n",
    "import numpy as np\n",
    "import matplotlib.pyplot as plt\n",
    "\n",
    "from scipy import stats\n",
    "\n",
    "from math import nan"
   ]
  },
  {
   "cell_type": "markdown",
   "metadata": {},
   "source": [
    "## Import data\n",
    "\n",
    "1. Import the spreadsheet (downloaded from google sheets)\n",
    "2. Re-index appropriately, and drop columns with no data\n",
    "3. Separate out L1 and L2, where possible"
   ]
  },
  {
   "cell_type": "code",
   "execution_count": null,
   "metadata": {},
   "outputs": [],
   "source": [
    "# import data\n",
    "df = pd.read_table(\"misc_data/manual-data-nov5.tsv\", sep=\"\\t\")\n",
    "\n",
    "df"
   ]
  },
  {
   "cell_type": "code",
   "execution_count": null,
   "metadata": {},
   "outputs": [],
   "source": [
    "# Clean up the table\n",
    "df = df.drop(columns = [\"1996\"])"
   ]
  },
  {
   "cell_type": "code",
   "execution_count": null,
   "metadata": {},
   "outputs": [],
   "source": [
    "# Re-index based on the first column, which is language. \n",
    "# rename the first column to \"language\"\n",
    "df = df.rename(columns = {\"Unnamed: 0\": \"Language\"})\n",
    "df = df.set_index(\"Language\")\n",
    "\n",
    "# cast column titles to integers\n",
    "df.columns = df.columns.astype(int)\n",
    "\n",
    "df"
   ]
  },
  {
   "cell_type": "code",
   "execution_count": null,
   "metadata": {},
   "outputs": [],
   "source": [
    "# Separate out L1 and L2 and total\n",
    "\n",
    "# Create a little function to parse each cell\n",
    "def separate_values(entry):\n",
    "    \"\"\" Separate data in cell into L1, L2 and total. \n",
    "    Inputs a string that may contain a single number, two numbers, or none.\n",
    "    Outputs l1, l2 and total as strings or np.nan if not present. \"\"\"\n",
    "\n",
    "\n",
    "    if type(entry) is not str:\n",
    "        if np.isnan(entry):\n",
    "            l1 = np.nan\n",
    "            l2 = np.nan\n",
    "            total = np.nan\n",
    "\n",
    "            return l1, l2, total\n",
    "        else:\n",
    "            raise TypeError(\"Entry is not a string or NaN\")\n",
    "        \n",
    "    entry = entry.replace(' ', '')\n",
    "    \n",
    "    if entry[-1] == \";\":\n",
    "        # only l1 speakers specified\n",
    "        l1 = int(entry[:-1].replace(\",\", \"\"))\n",
    "        l2 = np.nan\n",
    "        total = l1\n",
    "\n",
    "        return l1, l2, total\n",
    "    \n",
    "    else:\n",
    "        split_entry = entry.split(\";\")\n",
    "\n",
    "        if len(split_entry) == 1:\n",
    "            # only total number of speakers specified\n",
    "            l1 = np.nan\n",
    "            l2 = np.nan\n",
    "            total = int(split_entry[0].replace(\",\", \"\"))\n",
    "\n",
    "            return l1, l2, total\n",
    "        \n",
    "        elif len(split_entry) == 2:\n",
    "            # l1 and l2 speakers specified\n",
    "\n",
    "            l1 = int(split_entry[0].replace(\",\", \"\"))\n",
    "            l2 = int(split_entry[1].replace(\",\", \"\"))\n",
    "            total = l1+l2\n",
    "\n",
    "            return l1, l2, total"
   ]
  },
  {
   "cell_type": "code",
   "execution_count": null,
   "metadata": {},
   "outputs": [],
   "source": [
    "entry = \"123,456; 789,012\"\n",
    "\n",
    "entry = entry.replace(' ', '')\n",
    "entry"
   ]
  },
  {
   "cell_type": "code",
   "execution_count": null,
   "metadata": {},
   "outputs": [],
   "source": [
    "# test the parsing function\n",
    "print(separate_values(\"1,2; 2,3\"))\n",
    "print(separate_values(\"1;\"))\n",
    "print(separate_values(\"1\"))\n",
    "print(separate_values(np.nan))\n",
    "print(separate_values(\"123,456; 789,012\"))\n"
   ]
  },
  {
   "cell_type": "code",
   "execution_count": null,
   "metadata": {},
   "outputs": [],
   "source": [
    "# Create new dataframes for L1, L2 and total\n",
    "\n",
    "L1 = pd.DataFrame(index = df.index, columns = df.columns)\n",
    "L2 = pd.DataFrame(index = df.index, columns = df.columns)\n",
    "total = pd.DataFrame(index = df.index, columns = df.columns)\n",
    "\n",
    "# Fill in the dataframes\n",
    "for index, row in df.iterrows():\n",
    "    for column in df.columns:\n",
    "        l1, l2, tot = separate_values(row[column])\n",
    "        L1.loc[index, column] = l1\n",
    "        L2.loc[index, column] = l2\n",
    "        total.loc[index, column] = tot\n",
    "\n",
    "# All modern standard arabic speakers are L2 speakers\n",
    "L2.loc[\"Modern Standard Arabic\", :] = total.loc[\"Modern Standard Arabic\", :]\n"
   ]
  },
  {
   "cell_type": "code",
   "execution_count": null,
   "metadata": {},
   "outputs": [],
   "source": [
    "L1"
   ]
  },
  {
   "cell_type": "code",
   "execution_count": null,
   "metadata": {},
   "outputs": [],
   "source": [
    "L2"
   ]
  },
  {
   "cell_type": "code",
   "execution_count": null,
   "metadata": {},
   "outputs": [],
   "source": [
    "total"
   ]
  },
  {
   "cell_type": "markdown",
   "metadata": {},
   "source": [
    "## Plot data \n",
    "\n",
    "Just to get an overview of L1, L2 and total"
   ]
  },
  {
   "cell_type": "code",
   "execution_count": null,
   "metadata": {},
   "outputs": [],
   "source": [
    "# Easier to extract data when the languages are the columns\n",
    "L1_plotting = L1.transpose()\n",
    "L2_plotting = L2.transpose()\n",
    "total_plotting = total.transpose()\n",
    "\n",
    "languages = L1_plotting.columns"
   ]
  },
  {
   "cell_type": "code",
   "execution_count": null,
   "metadata": {},
   "outputs": [],
   "source": [
    "L1_plotting"
   ]
  },
  {
   "cell_type": "code",
   "execution_count": null,
   "metadata": {},
   "outputs": [],
   "source": [
    "# Choose the number of langauges (top based on 2023 data)\n",
    "num_languages = 15"
   ]
  },
  {
   "cell_type": "code",
   "execution_count": null,
   "metadata": {},
   "outputs": [],
   "source": [
    "# Plot the L1 data\n",
    "\n",
    "fig, ax = plt.subplots(figsize=(10, 4))\n",
    "\n",
    "for i in range(num_languages):\n",
    "    ax.scatter(L1_plotting.index, L1_plotting[languages[i]] / 10**6, label = languages[i])\n",
    "    ax.plot(L1_plotting.index, L1_plotting[languages[i]] / 10**6) # remove this line to remove the lines connecting the points\n",
    "\n",
    "# move the legend outside the plot\n",
    "# https://builtin.com/data-science/matplotlib-legend-outside-plot \n",
    "pos = ax.get_position()\n",
    "ax.set_position([pos.x0, pos.y0, pos.width * 0.9, pos.height])\n",
    "ax.legend(loc='center right', bbox_to_anchor=(1.35, 0.5))\n",
    "\n",
    "fig.suptitle(\"L1 Speakers\")\n",
    "ax.set_ylabel(\"Number of speakers (millions)\")\n",
    "ax.set_xlabel(\"Year\")\n",
    "plt.show()\n",
    "plt.close()"
   ]
  },
  {
   "cell_type": "code",
   "execution_count": null,
   "metadata": {},
   "outputs": [],
   "source": [
    "# Compute per-language standard deviation of L1 speakers\n",
    "L1_cv = L1.std(axis = 1) / L1.mean(axis = 1)\n",
    "L1_cv"
   ]
  },
  {
   "cell_type": "code",
   "execution_count": null,
   "metadata": {},
   "outputs": [],
   "source": [
    "# Plot the L2 data\n",
    "\n",
    "fig, ax = plt.subplots(figsize=(10, 4))\n",
    "\n",
    "for i in range(num_languages):\n",
    "    ax.scatter(L2_plotting.index, L2_plotting[languages[i]] / 10**6, label = languages[i])\n",
    "    ax.plot(L2_plotting.index, L2_plotting[languages[i]] / 10**6) # remove this line to remove the lines connecting the points\n",
    "\n",
    "# move the legend outside the plot\n",
    "# https://builtin.com/data-science/matplotlib-legend-outside-plot\n",
    "pos = ax.get_position()\n",
    "ax.set_position([pos.x0, pos.y0, pos.width * 0.9, pos.height])\n",
    "ax.legend(loc='center right', bbox_to_anchor=(1.35, 0.5))\n",
    "\n",
    "fig.suptitle(\"L2 Speakers\")\n",
    "ax.set_ylabel(\"Number of speakers (millions)\")\n",
    "ax.set_xlabel(\"Year\")\n",
    "plt.show()\n",
    "plt.close()"
   ]
  },
  {
   "cell_type": "code",
   "execution_count": null,
   "metadata": {},
   "outputs": [],
   "source": [
    "# Plot the total number of speakers\n",
    "\n",
    "fig, ax = plt.subplots(figsize=(10, 4))\n",
    "\n",
    "for i in range(num_languages):\n",
    "    ax.scatter(total_plotting.index, total_plotting[languages[i]] / 10**6, label = languages[i])\n",
    "    ax.plot(total_plotting.index, total_plotting[languages[i]] / 10**6) # remove this line to remove the lines connecting the points\n",
    "\n",
    "# move the legend outside the plot\n",
    "# https://builtin.com/data-science/matplotlib-legend-outside-plot\n",
    "pos = ax.get_position()\n",
    "ax.set_position([pos.x0, pos.y0, pos.width * 0.9, pos.height])\n",
    "ax.legend(loc='center right', bbox_to_anchor=(1.35, 0.5))\n",
    "\n",
    "fig.suptitle(\"Total Number of Speakers\")\n",
    "ax.set_ylabel(\"Number of speakers (millions)\")\n",
    "ax.set_xlabel(\"Year\")\n",
    "plt.show()\n",
    "plt.close()\n"
   ]
  },
  {
   "cell_type": "markdown",
   "metadata": {},
   "source": [
    "## Linear Model\n",
    "\n",
    "Use linear regression to find a line of best fit, extend 20 years in the future."
   ]
  },
  {
   "cell_type": "code",
   "execution_count": null,
   "metadata": {},
   "outputs": [],
   "source": [
    "# testing out linear regression\n",
    "\n",
    "x = [1, 2, 3, 4, 5]\n",
    "y = [1.1, 1.9, 3.2, 4.1, 5.2]\n",
    "\n",
    "slope, intercept, r_value, p_value, std_err = stats.linregress(x, y)\n",
    "slope"
   ]
  },
  {
   "cell_type": "code",
   "execution_count": null,
   "metadata": {},
   "outputs": [],
   "source": [
    "def only_non_nan(x, y): \n",
    "    \"\"\"Prepares x and y (vectors) for linear regression by removing missing values\"\"\"\n",
    "    new_x = []\n",
    "    new_y = []\n",
    "\n",
    "    for x_val, y_val in zip(x, y):\n",
    "        if not np.isnan(x_val) and not np.isnan(y_val):\n",
    "            new_x.append(x_val)\n",
    "            new_y.append(y_val)\n",
    "\n",
    "    if len(new_x) == 0:\n",
    "        return [np.nan], [np.nan] # return nan if there are no non-nan values\n",
    "    \n",
    "    else:\n",
    "        return new_x, new_y"
   ]
  },
  {
   "cell_type": "code",
   "execution_count": null,
   "metadata": {},
   "outputs": [],
   "source": [
    "# testing out linear regression\n",
    "\n",
    "x = [1, np.nan, 3, 4, 5]\n",
    "y = [1.1, 1.9, np.nan, 4.1, 5.2]\n",
    "\n",
    "# x = [np.nan, np.nan, np.nan, np.nan, np.nan]\n",
    "# y = [np.nan, np.nan, np.nan, np.nan, np.nan]\n",
    "\n",
    "slope, intercept, r_value, p_value, std_err = stats.linregress(only_non_nan(x,y))\n",
    "slope"
   ]
  },
  {
   "cell_type": "code",
   "execution_count": null,
   "metadata": {},
   "outputs": [],
   "source": [
    "# Use stats.linregress to find a line of best fit with the data we have\n",
    "\n",
    "# Create a dictionary to store the slope and intercept for each language\n",
    "L1_regression_lines = {}\n",
    "\n",
    "for language in languages:\n",
    "    x = L1_plotting.index.to_list()\n",
    "    y = L1_plotting[language].to_list()\n",
    "    # check that y has some non-nan values\n",
    "    new_x, new_y = only_non_nan(x, y)\n",
    "\n",
    "    slope, intercept, r_value, p_value, std_err = stats.linregress(new_x, new_y)\n",
    "    L1_regression_lines[language] = [slope, intercept]\n",
    "\n",
    "L2_regression_lines = {}\n",
    "\n",
    "for language in languages:\n",
    "    x = L2_plotting.index.to_list()\n",
    "    y = L2_plotting[language].to_list()\n",
    "    # check that y has some non-nan values\n",
    "    new_x, new_y = only_non_nan(x, y)\n",
    "\n",
    "    slope, intercept, r_value, p_value, std_err = stats.linregress(new_x, new_y)\n",
    "    L2_regression_lines[language] = [slope, intercept]\n",
    "\n",
    "total_regression_lines = {}\n",
    "\n",
    "for language in languages:\n",
    "    x = total_plotting.index.to_list()\n",
    "    y = total_plotting[language].to_list()\n",
    "    # check that y has some non-nan values\n",
    "    new_x, new_y = only_non_nan(x, y)\n",
    "\n",
    "    slope, intercept, r_value, p_value, std_err = stats.linregress(new_x, new_y)\n",
    "    total_regression_lines[language] = [slope, intercept]"
   ]
  },
  {
   "cell_type": "code",
   "execution_count": null,
   "metadata": {},
   "outputs": [],
   "source": [
    "# Plots with regression lines and projections\n",
    "\n",
    "# Plan\n",
    "# 1. Plot the data (using scatter)\n",
    "# 2. Plot the regression line (using plot)\n",
    "# 3. Plot the projection (using plot, dashed line)"
   ]
  },
  {
   "cell_type": "code",
   "execution_count": null,
   "metadata": {},
   "outputs": [],
   "source": [
    "num_languages = 10\n",
    "color_list = [\"tab:blue\", \"tab:orange\", \"tab:green\", \"tab:red\", \"tab:purple\", \"tab:brown\", \"tab:pink\", \"tab:gray\", \"tab:olive\", \"tab:cyan\"]\n",
    "\n",
    "past_years = [2000, 2022]\n",
    "future_years = [2023, 2050]"
   ]
  },
  {
   "cell_type": "code",
   "execution_count": null,
   "metadata": {},
   "outputs": [],
   "source": [
    "# print out the L1 regression line dictionary\n",
    "# Grrrr too many nans \n",
    "L1_regression_lines"
   ]
  },
  {
   "cell_type": "code",
   "execution_count": null,
   "metadata": {},
   "outputs": [],
   "source": [
    "# Define a function to plot the data, regression line and projection\n",
    "\n",
    "def plot_linear_projection(df_plotting, dict_regression_lines, name, languages=languages, num_languages=num_languages, color_list=color_list, past_years=past_years, future_years=future_years):\n",
    "    fig, ax = plt.subplots(figsize=(10, 4))\n",
    "\n",
    "    for i in range(num_languages):\n",
    "        ax.scatter(df_plotting.index, df_plotting[languages[i]] / 10**6, label = languages[i], color = color_list[i])\n",
    "\n",
    "        # plot the regression line\n",
    "        slope, intercept = dict_regression_lines[languages[i]]\n",
    "        past_speakers = [(slope * year + intercept) / 10**6 for year in past_years]\n",
    "        future_speakers = [(slope * year + intercept) / 10**6 for year in future_years]\n",
    "\n",
    "        ax.plot(past_years, past_speakers, color = color_list[i])\n",
    "        ax.plot(future_years, future_speakers, linestyle=\"dashed\", color=color_list[i])\n",
    "\n",
    "    # move the legend outside the plot\n",
    "    # https://builtin.com/data-science/matplotlib-legend-outside-plot\n",
    "\n",
    "    pos = ax.get_position()\n",
    "    ax.set_position([pos.x0, pos.y0, pos.width * 0.9, pos.height])\n",
    "    ax.legend(loc='center right', bbox_to_anchor=(1.35, 0.5))\n",
    "\n",
    "    fig.suptitle(name)\n",
    "    ax.set_ylabel(\"Number of speakers (millions)\")\n",
    "    ax.set_xlabel(\"Year\")\n",
    "    plt.show()\n",
    "    plt.close()"
   ]
  },
  {
   "cell_type": "code",
   "execution_count": null,
   "metadata": {},
   "outputs": [],
   "source": [
    "# Plot the L1 data and projections\n",
    "\n",
    "fig, ax = plt.subplots(figsize=(10, 4))\n",
    "\n",
    "for i in range(num_languages):\n",
    "    ax.scatter(L1_plotting.index, L1_plotting[languages[i]] / 10**6, label = languages[i], color = color_list[i])\n",
    "\n",
    "    # plot the regression line\n",
    "    slope, intercept = L1_regression_lines[languages[i]]\n",
    "    past_speakers = [(slope * year + intercept) / 10**6 for year in past_years]\n",
    "    future_speakers = [(slope * year + intercept) / 10**6 for year in future_years]\n",
    "\n",
    "    ax.plot(past_years, past_speakers, color = color_list[i])\n",
    "    ax.plot(future_years, future_speakers, linestyle=\"dashed\", color=color_list[i])\n",
    "\n",
    "# move the legend outside the plot\n",
    "# https://builtin.com/data-science/matplotlib-legend-outside-plot\n",
    "\n",
    "pos = ax.get_position()\n",
    "ax.set_position([pos.x0, pos.y0, pos.width * 0.9, pos.height])\n",
    "ax.legend(loc='center right', bbox_to_anchor=(1.35, 0.5))\n",
    "\n",
    "fig.suptitle(\"L1 Speakers\")\n",
    "ax.set_ylabel(\"Number of speakers (millions)\")\n",
    "ax.set_xlabel(\"Year\")\n",
    "plt.show()\n",
    "plt.close()\n",
    "\n",
    "\n",
    "    \n"
   ]
  },
  {
   "cell_type": "code",
   "execution_count": null,
   "metadata": {},
   "outputs": [],
   "source": [
    "plot_linear_projection(L1_plotting, L1_regression_lines, \"L1 Speakers\")"
   ]
  },
  {
   "cell_type": "code",
   "execution_count": null,
   "metadata": {},
   "outputs": [],
   "source": [
    "plot_linear_projection(L2_plotting, L2_regression_lines, \"L2 Speakers\")"
   ]
  },
  {
   "cell_type": "code",
   "execution_count": null,
   "metadata": {},
   "outputs": [],
   "source": [
    "plot_linear_projection(total_plotting, total_regression_lines, \"Total Speakers\")"
   ]
  },
  {
   "cell_type": "code",
   "execution_count": null,
   "metadata": {},
   "outputs": [],
   "source": []
  }
 ],
 "metadata": {
  "kernelspec": {
   "display_name": "math",
   "language": "python",
   "name": "python3"
  },
  "language_info": {
   "codemirror_mode": {
    "name": "ipython",
    "version": 3
   },
   "file_extension": ".py",
   "mimetype": "text/x-python",
   "name": "python",
   "nbconvert_exporter": "python",
   "pygments_lexer": "ipython3"
  }
 },
 "nbformat": 4,
 "nbformat_minor": 2
}
