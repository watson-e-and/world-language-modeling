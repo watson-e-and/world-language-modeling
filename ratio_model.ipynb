{
 "cells": [
  {
   "cell_type": "code",
   "execution_count": null,
   "metadata": {},
   "outputs": [],
   "source": [
    "import pandas as pd\n",
    "import numpy as np\n",
    "import matplotlib.pyplot as plt\n",
    "\n",
    "\n",
    "from math import nan"
   ]
  },
  {
   "cell_type": "markdown",
   "metadata": {},
   "source": [
    "# Import Language Data"
   ]
  },
  {
   "cell_type": "code",
   "execution_count": null,
   "metadata": {},
   "outputs": [],
   "source": [
    "# import data\n",
    "lang_df = pd.read_table(\"populations.tsv\", sep=\"\\t\", header=None)\n",
    "\n",
    "# rename columns\n",
    "lang_df.rename(columns={0: \"Language\", 1: \"Country\", 2:16, 3:17, 4:18, 5:19, 6:20, 7:21, 8:22, 9:23, 10:25, 11:\"drop\"}, inplace=True)\n",
    "\n",
    "# Strip whitespace from the Language and Country columns\n",
    "lang_df[\"Language\"] = lang_df[\"Language\"].str.strip()\n",
    "lang_df[\"Country\"] = lang_df[\"Country\"].str.strip()\n",
    "\n",
    "# set the index to the first two columns\n",
    "lang_df.set_index([\"Language\", \"Country\"], inplace=True)\n",
    "\n",
    "\n",
    "lang_df"
   ]
  },
  {
   "cell_type": "code",
   "execution_count": null,
   "metadata": {},
   "outputs": [],
   "source": [
    "# view the first few indexes\n",
    "lang_df.index[:5]"
   ]
  },
  {
   "cell_type": "code",
   "execution_count": null,
   "metadata": {},
   "outputs": [],
   "source": [
    "eval(lang_df[17][(\"eng\", \"American Samoa\")])"
   ]
  },
  {
   "cell_type": "code",
   "execution_count": null,
   "metadata": {},
   "outputs": [],
   "source": [
    "# Grab just the total number of speakers (ie the first number in the tuple)\n",
    "\n",
    "def extract_total_speakers(cell):\n",
    "\n",
    "    if cell == 0:\n",
    "        return 0\n",
    "    \n",
    "    # try to check if the cell is nan\n",
    "    try:\n",
    "        if np.isnan(cell):\n",
    "            return 0\n",
    "    except:\n",
    "        pass\n",
    "\n",
    "    eval_cell = eval(cell)\n",
    "    if type(eval_cell) == tuple:\n",
    "        return eval_cell[0]\n",
    "    else:\n",
    "        return eval_cell\n",
    "    \n",
    "\n",
    "# Create a new df where each cell has just the total number of speakers\n",
    "total_speakers_df = lang_df.applymap(extract_total_speakers)\n",
    "total_speakers_df"
   ]
  },
  {
   "cell_type": "markdown",
   "metadata": {},
   "source": [
    "# Import Population Data"
   ]
  },
  {
   "cell_type": "code",
   "execution_count": null,
   "metadata": {},
   "outputs": [],
   "source": [
    "pop_df = pd.read_csv(\"World_Population_Data.csv\", header=2)"
   ]
  },
  {
   "cell_type": "code",
   "execution_count": null,
   "metadata": {},
   "outputs": [],
   "source": [
    "pop_df = pop_df.drop(columns = [\"Indicator Name\", \"Indicator Code\", \"Country Code\", \"Unnamed: 67\"])\n",
    "pop_df = pop_df.set_index(\"Country Name\")\n",
    "# rename index to Country\n",
    "pop_df.index.names = [\"Country\"]\n",
    "\n",
    "pop_df.columns = pop_df.columns.astype(int)"
   ]
  },
  {
   "cell_type": "code",
   "execution_count": null,
   "metadata": {},
   "outputs": [],
   "source": [
    "pop_df"
   ]
  },
  {
   "cell_type": "markdown",
   "metadata": {},
   "source": [
    "# Lang/pop v time"
   ]
  },
  {
   "cell_type": "code",
   "execution_count": null,
   "metadata": {},
   "outputs": [],
   "source": [
    "edition_to_year= {13:1996, 14: 2000, 15:2005, 16:2009, 17:2014, 18:2015, 19:2016, 20:2017, 21:2018, 22:2019, 23:2020, 24:2021, 25:2022}\n",
    "\n",
    "\n",
    "\n",
    "total_speakers_df= total_speakers_df.rename(columns=edition_to_year)\n",
    "total_speakers_df= total_speakers_df.stack()\n",
    "total_speakers_df= total_speakers_df.unstack(\"Language\") \n",
    "\n",
    "# name the second index \"Year\"\n",
    "total_speakers_df.index.names = [\"Country\", \"Year\"]\n",
    "\n",
    "total_speakers_df"
   ]
  },
  {
   "cell_type": "code",
   "execution_count": null,
   "metadata": {},
   "outputs": [],
   "source": [
    "# names of total_speakers_df index\n",
    "total_speakers_df.index.names"
   ]
  },
  {
   "cell_type": "markdown",
   "metadata": {},
   "source": [
    "### Check which country names align"
   ]
  },
  {
   "cell_type": "code",
   "execution_count": null,
   "metadata": {},
   "outputs": [],
   "source": [
    "lang_countries = total_speakers_df.index.get_level_values(0).unique()\n",
    "pop_countries = pop_df.index.unique()"
   ]
  },
  {
   "cell_type": "code",
   "execution_count": null,
   "metadata": {},
   "outputs": [],
   "source": [
    "# find all the countries that only appear in the language df\n",
    "lang_only_countries = lang_countries.difference(pop_countries)\n",
    "lang_only_countries"
   ]
  },
  {
   "cell_type": "code",
   "execution_count": null,
   "metadata": {},
   "outputs": [],
   "source": [
    "# find all the countries that only appear in the population df\n",
    "pop_only_countries = pop_countries.difference(lang_countries)\n",
    "pop_only_countries"
   ]
  },
  {
   "cell_type": "markdown",
   "metadata": {},
   "source": [
    "Resolving country differences\n",
    "\n",
    "- Some will be easy, like `Palestine` vs `West Bank and Gaza`.\n",
    "- Perhaps the World Bank data can be used for regional populations, since it seems to have regions\n",
    "- As of 1/7/24 morning, I haven't taken any of this into account "
   ]
  },
  {
   "cell_type": "code",
   "execution_count": null,
   "metadata": {},
   "outputs": [],
   "source": [
    "stacked_pop_df = pop_df.stack()\n",
    "stacked_pop_df.index.names = [\"Country\", \"Year\"]\n",
    "stacked_pop_df"
   ]
  },
  {
   "cell_type": "code",
   "execution_count": null,
   "metadata": {},
   "outputs": [],
   "source": [
    "total_speakers_df = total_speakers_df.assign(Population=stacked_pop_df)\n",
    "total_speakers_df"
   ]
  },
  {
   "cell_type": "code",
   "execution_count": null,
   "metadata": {},
   "outputs": [],
   "source": [
    "# for each language, create a new column with the fraction of the population that speaks that language\n",
    "\n",
    "# create a new df with the fraction of the population that speaks each language\n",
    "ratio_total_speakers_df = pd.DataFrame(index=total_speakers_df.index, columns=total_speakers_df.columns)\n",
    "\n",
    "# for each language, create a new column with the fraction of the population that speaks that language\n",
    "for lang in total_speakers_df.columns:\n",
    "    ratio_total_speakers_df[lang] = total_speakers_df[lang] / total_speakers_df[\"Population\"]\n",
    "\n",
    "ratio_total_speakers_df"
   ]
  },
  {
   "cell_type": "code",
   "execution_count": null,
   "metadata": {},
   "outputs": [],
   "source": [
    "populations_northern_europe= [\"Finland\", \"Isle of Man\", \"Norway\", \"Denmark\", \"Sweden\", \"Estonia\", \"Iceland\", \"Latvia\", \"United Kingdom\", \"Ireland\", \"Lithuania\"]\n",
    "#No Faroe Islands"
   ]
  },
  {
   "cell_type": "code",
   "execution_count": null,
   "metadata": {},
   "outputs": [],
   "source": [
    "# ne= total_speakers_df.loc[populations_northern_europe]"
   ]
  },
  {
   "cell_type": "code",
   "execution_count": null,
   "metadata": {},
   "outputs": [],
   "source": [
    "def plot_region(populations,name)   :\n",
    "    fig, ax = plt.subplots(figsize=(13, 4))\n",
    "\n",
    "    for country in populations:\n",
    "        print(country)\n",
    "        ax.scatter(df_plotting.index, df_plotting[country] / 10**6, label = country)\n",
    "        ax.plot(df_plotting.index, df_plotting[country] / 10**6) # remove this line to remove the lines connecting the points\n",
    "\n",
    "    # move the legend outside the plot\n",
    "    # https://builtin.com/data-science/matplotlib-legend-outside-plot \n",
    "    pos = ax.get_position()\n",
    "    ax.set_position([pos.x0, pos.y0, pos.width * 0.9, pos.height])\n",
    "    ax.legend(loc='center right', bbox_to_anchor=(1.35, 0.5))\n",
    "\n",
    "    fig.suptitle(name)\n",
    "    ax.set_ylabel(\"Population (millions)\")\n",
    "    ax.set_xlabel(\"Year\")\n",
    "    plt.show()\n",
    "    plt.close()"
   ]
  }
 ],
 "metadata": {
  "kernelspec": {
   "display_name": "math",
   "language": "python",
   "name": "python3"
  },
  "language_info": {
   "codemirror_mode": {
    "name": "ipython",
    "version": 3
   },
   "file_extension": ".py",
   "mimetype": "text/x-python",
   "name": "python",
   "nbconvert_exporter": "python",
   "pygments_lexer": "ipython3"
  }
 },
 "nbformat": 4,
 "nbformat_minor": 2
}
