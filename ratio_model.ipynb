{
 "cells": [
  {
   "cell_type": "code",
   "execution_count": null,
   "metadata": {},
   "outputs": [],
   "source": [
    "import pandas as pd\n",
    "import numpy as np\n",
    "import matplotlib.pyplot as plt\n",
    "\n",
    "\n",
    "from math import nan"
   ]
  },
  {
   "cell_type": "markdown",
   "metadata": {},
   "source": [
    "# Import Language Data"
   ]
  },
  {
   "cell_type": "code",
   "execution_count": null,
   "metadata": {},
   "outputs": [],
   "source": [
    "# import data\n",
    "lang_df = pd.read_table(\"populations.tsv\", sep=\"\\t\", header=None)\n",
    "\n",
    "# rename columns\n",
    "lang_df.rename(columns={0: \"Language\", 1: \"Country\", 2:16, 3:17, 4:18, 5:19, 6:20, 7:21, 8:22, 9:23, 10:25, 11:\"drop\"}, inplace=True)\n",
    "\n",
    "# Strip whitespace from the Language and Country columns\n",
    "lang_df[\"Language\"] = lang_df[\"Language\"].str.strip()\n",
    "lang_df[\"Country\"] = lang_df[\"Country\"].str.strip()\n",
    "\n",
    "# set the index to the first two columns\n",
    "lang_df.set_index([\"Language\", \"Country\"], inplace=True)\n",
    "\n",
    "\n",
    "lang_df"
   ]
  },
  {
   "cell_type": "code",
   "execution_count": null,
   "metadata": {},
   "outputs": [],
   "source": [
    "# view the first few indexes\n",
    "lang_df.index[:5]"
   ]
  },
  {
   "cell_type": "code",
   "execution_count": null,
   "metadata": {},
   "outputs": [],
   "source": [
    "eval(lang_df[17][(\"eng\", \"American Samoa\")])"
   ]
  },
  {
   "cell_type": "code",
   "execution_count": null,
   "metadata": {},
   "outputs": [],
   "source": [
    "# Grab just the total number of speakers (ie the first number in the tuple)\n",
    "\n",
    "def extract_total_speakers(cell):\n",
    "\n",
    "    if cell == 0:\n",
    "        return 0\n",
    "    \n",
    "    # try to check if the cell is nan\n",
    "    try:\n",
    "        if np.isnan(cell):\n",
    "            return 0\n",
    "    except:\n",
    "        pass\n",
    "\n",
    "    eval_cell = eval(cell)\n",
    "    if type(eval_cell) == tuple:\n",
    "        return eval_cell[0]\n",
    "    else:\n",
    "        return eval_cell\n",
    "    \n",
    "\n",
    "# Create a new df where each cell has just the total number of speakers\n",
    "total_speakers_df = lang_df.applymap(extract_total_speakers)\n",
    "total_speakers_df"
   ]
  },
  {
   "cell_type": "markdown",
   "metadata": {},
   "source": [
    "# Import Population Data"
   ]
  },
  {
   "cell_type": "code",
   "execution_count": null,
   "metadata": {},
   "outputs": [],
   "source": [
    "pop_df = pd.read_csv(\"World_Population_Data.csv\", header=2)"
   ]
  },
  {
   "cell_type": "code",
   "execution_count": null,
   "metadata": {},
   "outputs": [],
   "source": [
    "pop_df = pop_df.drop(columns = [\"Indicator Name\", \"Indicator Code\", \"Country Code\", \"Unnamed: 67\"])\n",
    "pop_df = pop_df.set_index(\"Country Name\")\n",
    "\n",
    "pop_df.columns = pop_df.columns.astype(int)"
   ]
  },
  {
   "cell_type": "code",
   "execution_count": null,
   "metadata": {},
   "outputs": [],
   "source": [
    "pop_df"
   ]
  },
  {
   "cell_type": "markdown",
   "metadata": {},
   "source": [
    "# Lang/pop v time"
   ]
  },
  {
   "cell_type": "code",
   "execution_count": null,
   "metadata": {},
   "outputs": [],
   "source": [
    "populations_northern_europe= [\"Finland\", \"Isle of Man\", \"Norway\", \"Denmark\", \"Sweden\", \"Estonia\", \"Iceland\", \"Latvia\", \"United Kingdom\", \"Ireland\", \"Lithuania\"]\n",
    "#No Faroe Islands"
   ]
  },
  {
   "cell_type": "code",
   "execution_count": null,
   "metadata": {},
   "outputs": [],
   "source": [
    "edition_to_year= {13:1996, 14: 2000, 15:2005, 16:2009, 17:2014, 18:2015, 19:2016, 20:2017, 21:2018, 22:2019, 23:2020, 24:2021, 25:2022}\n",
    "\n",
    "\n",
    "\n",
    "total_speakers_df= total_speakers_df.rename(columns=edition_to_year)\n",
    "total_speakers_df= total_speakers_df.stack()\n",
    "total_speakers_df= total_speakers_df.unstack(\"Language\") \n",
    "\n",
    "total_speakers_df"
   ]
  },
  {
   "cell_type": "code",
   "execution_count": null,
   "metadata": {},
   "outputs": [],
   "source": [
    "ne= total_speakers_df.loc[populations_northern_europe]"
   ]
  },
  {
   "cell_type": "code",
   "execution_count": null,
   "metadata": {},
   "outputs": [],
   "source": [
    "merged_df = total_speakers_df.merge(pop_df, on=['Country', 'Year'], how='left')\n",
    "merged_df['Population'] = merged_df['Country'].map(pop_df)"
   ]
  },
  {
   "cell_type": "markdown",
   "metadata": {},
   "source": []
  }
 ],
 "metadata": {
  "kernelspec": {
   "display_name": "math",
   "language": "python",
   "name": "python3"
  },
  "language_info": {
   "codemirror_mode": {
    "name": "ipython",
    "version": 3
   },
   "file_extension": ".py",
   "mimetype": "text/x-python",
   "name": "python",
   "nbconvert_exporter": "python",
   "pygments_lexer": "ipython3",
   "version": "3.11.5"
  }
 },
 "nbformat": 4,
 "nbformat_minor": 2
}
