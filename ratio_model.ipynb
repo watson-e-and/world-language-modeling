{
 "cells": [
  {
   "cell_type": "code",
   "execution_count": null,
   "metadata": {},
   "outputs": [],
   "source": [
    "import pandas as pd\n",
    "import numpy as np\n",
    "import matplotlib.pyplot as plt\n",
    "\n",
    "from scipy import stats\n",
    "\n",
    "from math import nan"
   ]
  },
  {
   "cell_type": "markdown",
   "metadata": {},
   "source": [
    "# Import Language Data"
   ]
  },
  {
   "cell_type": "code",
   "execution_count": null,
   "metadata": {},
   "outputs": [],
   "source": [
    "# import data\n",
    "lang_df = pd.read_table(\"populations.tsv\", sep=\"\\t\", header=None)\n",
    "\n",
    "# rename columns\n",
    "lang_df.rename(columns={0: \"Language\", 1: \"Country\", 2:13, 3:14, 4:15, 5:16, 6:17, 7:18, 8:19, 9:20, 10:21, 11:22}, inplace=True)\n",
    "\n",
    "# Strip whitespace from the Language and Country columns\n",
    "lang_df[\"Language\"] = lang_df[\"Language\"].str.strip()\n",
    "lang_df[\"Country\"] = lang_df[\"Country\"].str.strip()\n",
    "\n",
    "# set the index to the first two columns\n",
    "lang_df.set_index([\"Language\", \"Country\"], inplace=True)\n",
    "\n",
    "\n",
    "\n",
    "lang_df"
   ]
  },
  {
   "cell_type": "code",
   "execution_count": null,
   "metadata": {},
   "outputs": [],
   "source": [
    "# view the first few indexes\n",
    "lang_df.index[:5]"
   ]
  },
  {
   "cell_type": "code",
   "execution_count": null,
   "metadata": {},
   "outputs": [],
   "source": [
    "eval(lang_df[14][(\"eng\", \"American Samoa\")])"
   ]
  },
  {
   "cell_type": "code",
   "execution_count": null,
   "metadata": {},
   "outputs": [],
   "source": [
    "# Grab just the total number of speakers (ie the first number in the tuple)\n",
    "\n",
    "def extract_total_speakers(cell):\n",
    "\n",
    "    if cell == 0:\n",
    "        return 0\n",
    "    \n",
    "    # try to check if the cell is nan\n",
    "    try:\n",
    "        if np.isnan(cell):\n",
    "            return 0\n",
    "    except:\n",
    "        pass\n",
    "\n",
    "    eval_cell = eval(cell)\n",
    "    if type(eval_cell) == tuple:\n",
    "        return eval_cell[0]\n",
    "    else:\n",
    "        return eval_cell\n",
    "    \n",
    "\n",
    "# Create a new df where each cell has just the total number of speakers\n",
    "total_speakers_df = lang_df.applymap(extract_total_speakers)\n",
    "total_speakers_df"
   ]
  },
  {
   "cell_type": "markdown",
   "metadata": {},
   "source": [
    "# Import Population Data"
   ]
  },
  {
   "cell_type": "code",
   "execution_count": null,
   "metadata": {},
   "outputs": [],
   "source": [
    "pop_df = pd.read_csv(\"World_Population_Data.csv\", header=2)"
   ]
  },
  {
   "cell_type": "code",
   "execution_count": null,
   "metadata": {},
   "outputs": [],
   "source": [
    "pop_df = pop_df.drop(columns = [\"Indicator Name\", \"Indicator Code\", \"Country Code\", \"Unnamed: 67\"])\n",
    "pop_df = pop_df.set_index(\"Country Name\")\n",
    "\n",
    "pop_df.columns = pop_df.columns.astype(int)"
   ]
  },
  {
   "cell_type": "code",
   "execution_count": null,
   "metadata": {},
   "outputs": [],
   "source": [
    "pop_df"
   ]
  }
 ],
 "metadata": {
  "kernelspec": {
   "display_name": "math",
   "language": "python",
   "name": "python3"
  },
  "language_info": {
   "codemirror_mode": {
    "name": "ipython",
    "version": 3
   },
   "file_extension": ".py",
   "mimetype": "text/x-python",
   "name": "python",
   "nbconvert_exporter": "python",
   "pygments_lexer": "ipython3"
  }
 },
 "nbformat": 4,
 "nbformat_minor": 2
}
