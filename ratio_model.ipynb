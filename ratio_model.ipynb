{
 "cells": [
  {
   "cell_type": "code",
   "execution_count": null,
   "metadata": {},
   "outputs": [],
   "source": [
    "import pandas as pd\n",
    "import numpy as np\n",
    "import matplotlib.pyplot as plt\n",
    "from scipy import stats\n",
    "\n",
    "from math import nan"
   ]
  },
  {
   "cell_type": "markdown",
   "metadata": {},
   "source": [
    "# Import Language Data"
   ]
  },
  {
   "cell_type": "code",
   "execution_count": null,
   "metadata": {},
   "outputs": [],
   "source": [
    "# import data\n",
    "lang_df = pd.read_table(\"populations.tsv\", sep=\"\\t\", header=None)\n",
    "\n",
    "# rename columns\n",
    "lang_df.rename(columns={0: \"Language\", 1: \"Country\", 2:16, 3:17, 4:18, 5:19, 6:20, 7:21, 8:22, 9:23, 10:25, 11:\"drop\"}, inplace=True)\n",
    "\n",
    "# Strip whitespace from the Language and Country columns\n",
    "lang_df[\"Language\"] = lang_df[\"Language\"].str.strip()\n",
    "lang_df[\"Country\"] = lang_df[\"Country\"].str.strip()\n",
    "\n",
    "# set the index to the first two columns\n",
    "lang_df.set_index([\"Language\", \"Country\"], inplace=True)\n",
    "\n",
    "\n",
    "lang_df"
   ]
  },
  {
   "cell_type": "code",
   "execution_count": null,
   "metadata": {},
   "outputs": [],
   "source": [
    "# view the first few indexes\n",
    "lang_df.index[:5]"
   ]
  },
  {
   "cell_type": "code",
   "execution_count": null,
   "metadata": {},
   "outputs": [],
   "source": [
    "eval(lang_df[17][(\"eng\", \"American Samoa\")])"
   ]
  },
  {
   "cell_type": "code",
   "execution_count": null,
   "metadata": {},
   "outputs": [],
   "source": [
    "# Grab just the total number of speakers (ie the first number in the tuple)\n",
    "\n",
    "def extract_total_speakers(cell):\n",
    "\n",
    "    if cell == 0:\n",
    "        return 0\n",
    "    \n",
    "    # try to check if the cell is nan\n",
    "    try:\n",
    "        if np.isnan(cell):\n",
    "            return 0\n",
    "    except:\n",
    "        pass\n",
    "\n",
    "    eval_cell = eval(cell)\n",
    "    if type(eval_cell) == tuple:\n",
    "        return eval_cell[0]\n",
    "    else:\n",
    "        return eval_cell\n",
    "    \n",
    "\n",
    "# Create a new df where each cell has just the total number of speakers\n",
    "total_speakers_df = lang_df.applymap(extract_total_speakers)\n",
    "# drop the column labeled \"drop\"\n",
    "total_speakers_df.drop(\"drop\", axis=1, inplace=True)\n",
    "total_speakers_df"
   ]
  },
  {
   "cell_type": "markdown",
   "metadata": {},
   "source": [
    "# Import Population Data"
   ]
  },
  {
   "cell_type": "code",
   "execution_count": null,
   "metadata": {},
   "outputs": [],
   "source": [
    "pop_df = pd.read_csv(\"World_Population_Data.csv\", header=2)"
   ]
  },
  {
   "cell_type": "code",
   "execution_count": null,
   "metadata": {},
   "outputs": [],
   "source": [
    "pop_df = pop_df.drop(columns = [\"Indicator Name\", \"Indicator Code\", \"Country Code\", \"Unnamed: 67\"])\n",
    "pop_df = pop_df.set_index(\"Country Name\")\n",
    "# rename index to Country\n",
    "pop_df.index.names = [\"Country\"]\n",
    "\n",
    "pop_df.columns = pop_df.columns.astype(int)"
   ]
  },
  {
   "cell_type": "code",
   "execution_count": null,
   "metadata": {},
   "outputs": [],
   "source": [
    "pop_df"
   ]
  },
  {
   "cell_type": "markdown",
   "metadata": {},
   "source": [
    "# Lang/pop v time"
   ]
  },
  {
   "cell_type": "code",
   "execution_count": null,
   "metadata": {},
   "outputs": [],
   "source": [
    "edition_to_year= {13:1996, 14: 2000, 15:2005, 16:2009, 17:2014, 18:2015, 19:2016, 20:2017, 21:2018, 22:2019, 23:2020, 24:2021, 25:2022}\n",
    "\n",
    "\n",
    "\n",
    "total_speakers_df= total_speakers_df.rename(columns=edition_to_year)\n",
    "total_speakers_df= total_speakers_df.stack()\n",
    "total_speakers_df= total_speakers_df.unstack(\"Language\") \n",
    "\n",
    "# name the second index \"Year\"\n",
    "total_speakers_df.index.names = [\"Country\", \"Year\"]\n",
    "\n",
    "total_speakers_df"
   ]
  },
  {
   "cell_type": "code",
   "execution_count": null,
   "metadata": {},
   "outputs": [],
   "source": [
    "# names of total_speakers_df index\n",
    "total_speakers_df.index.names"
   ]
  },
  {
   "cell_type": "markdown",
   "metadata": {},
   "source": [
    "### Check which country names align"
   ]
  },
  {
   "cell_type": "code",
   "execution_count": null,
   "metadata": {},
   "outputs": [],
   "source": [
    "lang_countries = total_speakers_df.index.get_level_values(0).unique()\n",
    "pop_countries = pop_df.index.unique()"
   ]
  },
  {
   "cell_type": "code",
   "execution_count": null,
   "metadata": {},
   "outputs": [],
   "source": [
    "# find all the countries that only appear in the language df\n",
    "lang_only_countries = lang_countries.difference(pop_countries)\n",
    "lang_only_countries"
   ]
  },
  {
   "cell_type": "code",
   "execution_count": null,
   "metadata": {},
   "outputs": [],
   "source": [
    "# find all the countries that only appear in the population df\n",
    "pop_only_countries = pop_countries.difference(lang_countries)\n",
    "pop_only_countries"
   ]
  },
  {
   "cell_type": "markdown",
   "metadata": {},
   "source": [
    "Resolving country differences\n",
    "\n",
    "- Some will be easy, like `Palestine` vs `West Bank and Gaza`.\n",
    "- Perhaps the World Bank data can be used for regional populations, since it seems to have regions\n",
    "- As of 1/7/24 morning, I haven't taken any of this into account "
   ]
  },
  {
   "cell_type": "code",
   "execution_count": null,
   "metadata": {},
   "outputs": [],
   "source": [
    "stacked_pop_df = pop_df.stack()\n",
    "stacked_pop_df.index.names = [\"Country\", \"Year\"]\n",
    "stacked_pop_df"
   ]
  },
  {
   "cell_type": "code",
   "execution_count": null,
   "metadata": {},
   "outputs": [],
   "source": [
    "total_speakers_df = total_speakers_df.assign(Population=stacked_pop_df)\n",
    "total_speakers_df"
   ]
  },
  {
   "cell_type": "code",
   "execution_count": null,
   "metadata": {},
   "outputs": [],
   "source": [
    "# Pull in the country-region mapping\n",
    "country_region_df = pd.read_csv(\"region.csv\")\n",
    "country_region_df = country_region_df.set_index(\"Country\")\n",
    "# convert to series\n",
    "country_region_series = pd.Series(index=country_region_df.index, data=country_region_df[\"Region\"])\n",
    "country_region_series"
   ]
  },
  {
   "cell_type": "code",
   "execution_count": null,
   "metadata": {},
   "outputs": [],
   "source": [
    "# Add the regions to the total_speakers_df\n",
    "# Apply the mapping to the 0th level of the index\n",
    "total_speakers_df = total_speakers_df.assign(Region=total_speakers_df.index.get_level_values(0).map(country_region_series))\n",
    "total_speakers_df"
   ]
  },
  {
   "cell_type": "code",
   "execution_count": null,
   "metadata": {},
   "outputs": [],
   "source": [
    "# Which countries have no region?\n",
    "total_speakers_df[total_speakers_df[\"Region\"].isnull()].index.get_level_values(0).unique()"
   ]
  },
  {
   "cell_type": "markdown",
   "metadata": {},
   "source": [
    "### Dropped countries w/o regions for now\n",
    "We should take more care with this later"
   ]
  },
  {
   "cell_type": "code",
   "execution_count": null,
   "metadata": {},
   "outputs": [],
   "source": [
    "# Drop the countries with no region\n",
    "total_speakers_df = total_speakers_df[total_speakers_df[\"Region\"].notnull()]\n",
    "total_speakers_df"
   ]
  },
  {
   "cell_type": "markdown",
   "metadata": {},
   "source": [
    "## Sum data by region"
   ]
  },
  {
   "cell_type": "code",
   "execution_count": null,
   "metadata": {},
   "outputs": [],
   "source": [
    "region_total_speakers_df = total_speakers_df.groupby([\"Region\", \"Year\"]).sum()\n",
    "region_total_speakers_df"
   ]
  },
  {
   "cell_type": "code",
   "execution_count": null,
   "metadata": {},
   "outputs": [],
   "source": [
    "# for each language, create a new column with the fraction of the population that speaks that language\n",
    "\n",
    "# create a new df with the fraction of the population that speaks each language\n",
    "ratio_region_total_speakers_df = pd.DataFrame(index=region_total_speakers_df.index, columns=region_total_speakers_df.columns)\n",
    "\n",
    "# for each language, create a new column with the fraction of the population that speaks that language\n",
    "for lang in region_total_speakers_df.columns:\n",
    "    ratio_region_total_speakers_df[lang] = region_total_speakers_df[lang] / region_total_speakers_df[\"Population\"]\n",
    "\n",
    "# drop the population column\n",
    "ratio_region_total_speakers_df.drop(\"Population\", axis=1, inplace=True)\n",
    "\n",
    "ratio_region_total_speakers_df.head(20)"
   ]
  },
  {
   "cell_type": "markdown",
   "metadata": {},
   "source": [
    "## Plot!!"
   ]
  },
  {
   "cell_type": "code",
   "execution_count": null,
   "metadata": {},
   "outputs": [],
   "source": [
    "def plot_region(region, lang_codes, lang_names, df, y_axis_label, plot_title, color_list):\n",
    "    fig, ax = plt.subplots(figsize=(10, 4))\n",
    "\n",
    "    regional_df = df.loc[region]\n",
    "\n",
    "    for i, lang in enumerate(lang_codes):\n",
    "        ax.scatter(regional_df.index, regional_df[lang], label=lang_names[lang], color=color_list[i])\n",
    "        ax.plot(regional_df.index, regional_df[lang], color_list[i]) # remove this line to remove the lines connecting the points\n",
    "\n",
    "    # move the legend outside the plot\n",
    "    # https://builtin.com/data-science/matplotlib-legend-outside-plot \n",
    "    pos = ax.get_position()\n",
    "    ax.set_position([pos.x0, pos.y0, pos.width * 0.9, pos.height])\n",
    "    ax.legend(loc='center right', bbox_to_anchor=(1.35, 0.5))\n",
    "\n",
    "    fig.suptitle(f\"{region} {plot_title}\")\n",
    "    ax.set_ylabel(f\"{y_axis_label}\")\n",
    "    ax.set_xlabel(\"Year\")\n",
    "    plt.show()\n",
    "    plt.close()"
   ]
  },
  {
   "cell_type": "code",
   "execution_count": null,
   "metadata": {},
   "outputs": [],
   "source": [
    "ratio_region_total_speakers_df.columns"
   ]
  },
  {
   "cell_type": "code",
   "execution_count": null,
   "metadata": {},
   "outputs": [],
   "source": [
    "regions = ratio_region_total_speakers_df.index.get_level_values(0).unique()\n",
    "lang_codes = ratio_region_total_speakers_df.columns\n",
    "lang_names = {\"arz\": \"Arabic\",\t\"ben\": \"Bengali\",\"cmn\": \"Mandarin\", \"deu\": \"German\",\t\"eng\": \"English\",\t\"fra\": \"French\",\t\"hin\": \"Hindi\",\t\"ind\": \"Indonesian\",\t\"jpn\": \"Japanese\", \t\"por\": \"Portuguese\",\t\"rus\": \"Russian\",\t\"spa\": \"Spanish\",\t\"urd\": \"Urdu\"}\n",
    "\n",
    "color_list = [\"tab:blue\", \"tab:orange\", \"tab:green\", \"tab:red\", \"tab:purple\", \"tab:brown\", \"tab:pink\", \"tab:gray\", \"tab:olive\", \"tab:cyan\", \"m\", \"k\", \"lime\"]\n",
    "\n",
    "for region in regions:\n",
    "    plot_region(region, lang_codes, lang_names, ratio_region_total_speakers_df, \"Number of speakers / Population\", \"Total Speakers as a Fraction of Population\", color_list)"
   ]
  },
  {
   "cell_type": "markdown",
   "metadata": {},
   "source": [
    "# Log Odds version"
   ]
  },
  {
   "cell_type": "code",
   "execution_count": null,
   "metadata": {},
   "outputs": [],
   "source": [
    "log_odds_region_total_speakers_df = np.log(ratio_region_total_speakers_df / (1 - ratio_region_total_speakers_df))\n",
    "\n",
    "# replace -inf with nan\n",
    "log_odds_region_total_speakers_df.replace(-np.inf, np.nan, inplace=True)\n",
    "\n",
    "log_odds_region_total_speakers_df.head(20)"
   ]
  },
  {
   "cell_type": "code",
   "execution_count": null,
   "metadata": {},
   "outputs": [],
   "source": [
    "# export log odds table to csv\n",
    "log_odds_region_total_speakers_df.to_csv(\"draft_log_odds_data.csv\")"
   ]
  },
  {
   "cell_type": "code",
   "execution_count": null,
   "metadata": {},
   "outputs": [],
   "source": [
    "for region in regions:\n",
    "    plot_region(region, lang_codes, lang_names, log_odds_region_total_speakers_df, \"log(ratio / (1 - ratio))\", \"Log Odds of Total Speakers as a Fraction of Population\", color_list)"
   ]
  },
  {
   "cell_type": "markdown",
   "metadata": {},
   "source": [
    "# Regression for Log Odds"
   ]
  },
  {
   "cell_type": "code",
   "execution_count": null,
   "metadata": {},
   "outputs": [],
   "source": [
    "def only_non_nan(x, y): \n",
    "    \"\"\"Prepares x and y (vectors) for linear regression by removing missing values\"\"\"\n",
    "    new_x = []\n",
    "    new_y = []\n",
    "\n",
    "    for x_val, y_val in zip(x, y):\n",
    "        if not np.isnan(x_val) and not np.isnan(y_val):\n",
    "            new_x.append(x_val)\n",
    "            new_y.append(y_val)\n",
    "\n",
    "    if len(new_x) == 0:\n",
    "        return [np.nan], [np.nan] # return nan if there are no non-nan values\n",
    "    \n",
    "    else:\n",
    "        return new_x, new_y"
   ]
  },
  {
   "cell_type": "code",
   "execution_count": null,
   "metadata": {},
   "outputs": [],
   "source": [
    "# Create a regression line for each region,language pair\n",
    "# store the slope, intercept, and r-value in a dataframe\n",
    "regression_total_speakers_df = pd.DataFrame(index=pd.MultiIndex.from_product([regions, lang_codes]), columns=[\"slope\", \"intercept\", \"r_value\", \"p_value\", \"std_err\"])\n",
    "\n",
    "for region in regions:\n",
    "    for lang in lang_codes:\n",
    "        x = log_odds_region_total_speakers_df.loc[region].index\n",
    "        y = log_odds_region_total_speakers_df.loc[region][lang]\n",
    "\n",
    "        x, y = only_non_nan(x, y)\n",
    "\n",
    "        slope, intercept, r_value, p_value, std_err = stats.linregress(x, y)\n",
    "\n",
    "        regression_total_speakers_df.loc[(region, lang)] = [slope, intercept, r_value, p_value, std_err]"
   ]
  },
  {
   "cell_type": "code",
   "execution_count": null,
   "metadata": {},
   "outputs": [],
   "source": [
    "regression_total_speakers_df"
   ]
  },
  {
   "cell_type": "markdown",
   "metadata": {},
   "source": [
    "## Plot with the regression lines "
   ]
  },
  {
   "cell_type": "code",
   "execution_count": null,
   "metadata": {},
   "outputs": [],
   "source": [
    "def plot_region_regression(region, lang_codes, lang_names, df, regress_df, y_axis_label, plot_title, color_list, future_years=[2023,2050]):\n",
    "    fig, ax = plt.subplots(figsize=(10, 4))\n",
    "\n",
    "    regional_df = df.loc[region]\n",
    "\n",
    "    for i, lang in enumerate(lang_codes):\n",
    "        ax.scatter(regional_df.index, regional_df[lang], label=lang_names[lang], color=color_list[i])\n",
    "        ax.plot(regional_df.index, regional_df[lang], color_list[i]) # remove this line to remove the lines connecting the points\n",
    "\n",
    "        # add the regression line\n",
    "        slope, intercept, r_value, p_value, std_err = regress_df.loc[(region, lang)]\n",
    "        x = np.array(future_years)\n",
    "        y = slope * x + intercept\n",
    "        ax.plot(x, y, color_list[i], linestyle=\"dashed\")\n",
    "\n",
    "    # move the legend outside the plot\n",
    "    # https://builtin.com/data-science/matplotlib-legend-outside-plot \n",
    "    pos = ax.get_position()\n",
    "    ax.set_position([pos.x0, pos.y0, pos.width * 0.9, pos.height])\n",
    "    ax.legend(loc='center right', bbox_to_anchor=(1.35, 0.5))\n",
    "\n",
    "    fig.suptitle(f\"{region} {plot_title}\")\n",
    "    ax.set_ylabel(f\"{y_axis_label}\")\n",
    "    ax.set_xlabel(\"Year\")\n",
    "    plt.show()\n",
    "    plt.close()"
   ]
  },
  {
   "cell_type": "code",
   "execution_count": null,
   "metadata": {},
   "outputs": [],
   "source": [
    "for region in regions:\n",
    "    plot_region_regression(region, lang_codes, lang_names, log_odds_region_total_speakers_df, regression_total_speakers_df,  \"log(ratio / (1 - ratio))\", \"Log Odds of Total Speakers as a Fraction of Population\", color_list)"
   ]
  },
  {
   "cell_type": "markdown",
   "metadata": {},
   "source": [
    "# Convert Back to Language Speakers\n",
    "\n",
    "Goal: A table with regional projections per language for 2025, 2030, 2035, 2040, 2045, 2050.\n",
    "\n",
    "Break it down into baby steps\n",
    "1. Use the regression lines to calculate values at 2025, 2030, 2035, 2040, 2045, 2050.\n",
    "2. Undo the log-odds part to get a ratio\n",
    "3. Use the projections to get a raw number\n",
    "4. (BONUS) Graphically display which languages have big populations where "
   ]
  },
  {
   "cell_type": "markdown",
   "metadata": {},
   "source": [
    "## Regression numbers per 5 years"
   ]
  },
  {
   "cell_type": "code",
   "execution_count": null,
   "metadata": {},
   "outputs": [],
   "source": [
    "# create a dataframe with index regions, future years, columns as language codes\n",
    "\n",
    "future_years = [2025, 2030, 2035, 2040, 2045, 2050]\n",
    "\n",
    "future_log_odds_region_total_speakers_df = pd.DataFrame(index=pd.MultiIndex.from_product([regions, future_years]), columns=lang_codes)\n",
    "\n",
    "for region in regions:\n",
    "    for lang in lang_codes:\n",
    "        slope, intercept, r_value, p_value, std_err = regression_total_speakers_df.loc[(region, lang)]\n",
    "        x = np.array(future_years)\n",
    "        y = slope * x + intercept\n",
    "        future_log_odds_region_total_speakers_df.loc[(region, slice(None)), lang] = y\n",
    "\n",
    "future_log_odds_region_total_speakers_df"
   ]
  },
  {
   "cell_type": "markdown",
   "metadata": {},
   "source": [
    "## Undo Log Odds \n",
    "\n",
    "Formula: Let $r$ be the ratio (which we want at the end of this step) and $l$ be the log odds (which we have).\n",
    "$$\n",
    "r = \\frac{e^l}{1+e^l} = \\frac{1}{e^{-l}+1}\n",
    "$$"
   ]
  },
  {
   "cell_type": "code",
   "execution_count": null,
   "metadata": {},
   "outputs": [],
   "source": [
    "# convert log odds to ratio, skipping all the nan values\n",
    "\n",
    "future_ratio_region_total_speakers_df = 1 / (1 + np.exp(-future_log_odds_region_total_speakers_df.astype(float)))\n",
    "future_ratio_region_total_speakers_df"
   ]
  },
  {
   "cell_type": "markdown",
   "metadata": {},
   "source": [
    "# Undo ratios\n",
    "Using population predictions"
   ]
  },
  {
   "cell_type": "code",
   "execution_count": null,
   "metadata": {},
   "outputs": [],
   "source": [
    "# Load in the population projections\n",
    "pop_proj_df = pd.read_csv(\"population_projections.csv\")\n",
    "pop_proj_df = pop_proj_df.set_index([\"Country\", \"Year\"])\n",
    "pop_proj_df"
   ]
  },
  {
   "cell_type": "code",
   "execution_count": null,
   "metadata": {},
   "outputs": [],
   "source": [
    "# Aggregate the population projections by region\n",
    "\n",
    "# Add the regions to the pop_proj_df\n",
    "# Apply the mapping to the 0th level of the index\n",
    "pop_proj_df = pop_proj_df.assign(Region=pop_proj_df.index.get_level_values(0).map(country_region_series))\n",
    "\n",
    "# Sum the population projections by region\n",
    "pop_proj_df = pop_proj_df.groupby([\"Region\", \"Year\"]).sum()\n",
    "\n",
    "pop_proj_df"
   ]
  },
  {
   "cell_type": "code",
   "execution_count": null,
   "metadata": {},
   "outputs": [],
   "source": [
    "# Add the population projections to the future_ratio_region_total_speakers_df\n",
    "future_ratio_region_total_speakers_df = future_ratio_region_total_speakers_df.assign(Population=pop_proj_df[\"Population\"])\n",
    "future_ratio_region_total_speakers_df"
   ]
  },
  {
   "cell_type": "code",
   "execution_count": null,
   "metadata": {},
   "outputs": [],
   "source": [
    "# Get the total speakers\n",
    "future_total_speakers_df = future_ratio_region_total_speakers_df * future_ratio_region_total_speakers_df[\"Population\"]\n",
    "\n",
    "# Fix the population column\n",
    "# future_total_speakers_df[\"Population\"] = np.sqrt(future_total_speakers_df[\"Population\"])"
   ]
  }
 ],
 "metadata": {
  "kernelspec": {
   "display_name": "math",
   "language": "python",
   "name": "python3"
  },
  "language_info": {
   "codemirror_mode": {
    "name": "ipython",
    "version": 3
   },
   "file_extension": ".py",
   "mimetype": "text/x-python",
   "name": "python",
   "nbconvert_exporter": "python",
   "pygments_lexer": "ipython3"
  }
 },
 "nbformat": 4,
 "nbformat_minor": 2
}
