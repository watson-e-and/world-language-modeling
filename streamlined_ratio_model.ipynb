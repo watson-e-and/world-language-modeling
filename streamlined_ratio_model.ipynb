{
 "cells": [
  {
   "cell_type": "markdown",
   "metadata": {},
   "source": [
    "# Ratio Model \n",
    "\n",
    "We're going to combine the historic language data with historic population data using a ratio and then taking the log odds. Then, we'll project into the future linearly, undo the log odds, and multiply by UN population projections to get the "
   ]
  },
  {
   "cell_type": "code",
   "execution_count": null,
   "metadata": {},
   "outputs": [],
   "source": [
    "import pandas as pd\n",
    "import numpy as np\n",
    "import matplotlib.pyplot as plt\n",
    "from scipy import stats\n",
    "import os\n",
    "\n",
    "from math import nan\n",
    "\n",
    "import ratio_model_utils as utils"
   ]
  },
  {
   "cell_type": "markdown",
   "metadata": {},
   "source": [
    "## Bring in data\n",
    "\n",
    "Most of this data was preprocessed by scripts in the folder `data_cleaning_notebooks` with raw data from the `raw_data` folder."
   ]
  },
  {
   "cell_type": "code",
   "execution_count": null,
   "metadata": {},
   "outputs": [],
   "source": [
    "# Load in files and set first two colums as index\n",
    "\n",
    "total_speakers_df = pd.read_csv(os.path.join(\"data\", \"interpolated_total_speakers.csv\"))\n",
    "total_speakers_df = total_speakers_df.set_index([\"Country\", \"Year\"])\n",
    "l1_speakers_df = pd.read_csv(os.path.join(\"data\", \"interpolated_l1_speakers.csv\"))\n",
    "l1_speakers_df = l1_speakers_df.set_index([\"Country\", \"Year\"])\n",
    "l2_speakers_df = pd.read_csv(os.path.join(\"data\", \"interpolated_l2_speakers.csv\"))\n",
    "l2_speakers_df = l2_speakers_df.set_index([\"Country\", \"Year\"])\n",
    "\n",
    "total_speakers_df"
   ]
  },
  {
   "cell_type": "code",
   "execution_count": null,
   "metadata": {},
   "outputs": [],
   "source": [
    "pop_df = pd.read_csv(os.path.join(\"data\", \"population_historic.csv\"), header=0)\n",
    "pop_df = pop_df.set_index([\"Country\", \"Year\"])\n",
    "pop_df"
   ]
  },
  {
   "cell_type": "code",
   "execution_count": null,
   "metadata": {},
   "outputs": [],
   "source": [
    "# pop_df = pop_df.drop(columns = [\"Indicator Name\", \"Indicator Code\", \"Country Code\", \"Unnamed: 67\"])\n",
    "# pop_df = pop_df.set_index(\"Country Name\")\n",
    "# # rename index to Country\n",
    "# pop_df.index.names = [\"Country\"]\n",
    "\n",
    "# pop_df.columns = pop_df.columns.astype(int)\n",
    "# pop_df"
   ]
  },
  {
   "cell_type": "markdown",
   "metadata": {},
   "source": [
    "### Check which country names don't align\n",
    "\n",
    "Different data sources use different names, next time we'll use the ISO country codes."
   ]
  },
  {
   "cell_type": "code",
   "execution_count": null,
   "metadata": {},
   "outputs": [],
   "source": [
    "lang_countries = total_speakers_df.index.get_level_values(0).unique()\n",
    "pop_countries = pop_df.index.get_level_values(0).unique()\n",
    "\n",
    "len(lang_countries), len(pop_countries)"
   ]
  },
  {
   "cell_type": "code",
   "execution_count": null,
   "metadata": {},
   "outputs": [],
   "source": [
    "# find all the countries that only appear in the language df\n",
    "lang_only_countries = lang_countries.difference(pop_countries)\n",
    "lang_only_countries"
   ]
  },
  {
   "cell_type": "code",
   "execution_count": null,
   "metadata": {},
   "outputs": [],
   "source": [
    "# find all the countries that only appear in the population df\n",
    "pop_only_countries = pop_countries.difference(lang_countries)\n",
    "pop_only_countries"
   ]
  },
  {
   "cell_type": "code",
   "execution_count": null,
   "metadata": {},
   "outputs": [],
   "source": [
    "# pop_to_lang_country_map = {\"Bahamas, The\": \"Bahamas\", \"Brunei Darussalam\": \"Brunei\", \"Cabo Verde\": \"Cape Verde Islands\", \"Hong Kong SAR, China\": \"Hong Kong\", \"Macao SAR, China\": \"Macao\", \"Congo, Rep.\": \"Congo\", \"Congo, Dem. Rep.\": \"Democratic Republic of the Congo\", \"Cote d'Ivoire\": \"Côte d’Ivoire\", \"Timor-Leste\": \"East Timor\", \"Egypt, Arab Rep.\": \"Egypt\", \"Gambia, The\": \"Gambia\", \"Iran, Islamic Rep.\": \"Iran\", \"Kyrgyz Republic\": \"Kyrgyzstan\", \"Lao PDR\": \"Laos\", \"West Bank and Gaza\": \"Palestine\", 'St. Kitts and Nevis': \"Saint Kitts and Nevis\", \"St. Lucia\": \"Saint Lucia\", \"St. Vincent and the Grenadines\": \"Saint Vincent and the Grenadines\", \"St. Martin (French part)\": \"Saint Martin\", \"Sint Maarten (Dutch part)\": \"Sint Maarten\", \"Slovak Republic\": \"Slovakia\", \"Korea, Rep.\": \"South Korea\", \"Syrian Arab Republic\": \"Syria\", \"Sao Tome and Principe\": \"São Tomé e Príncipe\", \"Turkiye\": \"Turkey\", \"Virgin Islands (U.S.)\": \"U.S. Virgin Islands\", \"Venezuela, RB\": \"Venezuela\", \"Viet Nam\": \"Vietnam\", \"Yemen, Rep.\": \"Yemen\"}\n",
    "\n",
    "# # not included\n",
    "# # Anguilla, British Indian Ocean Territory, Caribbean Netherlands, Taiwan, Christmas Island, Cocos (Keeling) Islands, Cook Islands, Falkland Islands, French Guiana, Guadaloupe, Guernsey, Martinique, Mayotte, Niue, Norfolk Island, Réunion, Saint Barthélemy, Saint Helena, Saint Helena, Ascension, and Tristan da Cunha, Saint Pierre and Miquelon, Taiwan, Tokelau, Wallis and Futuna, Western Sahara\n",
    "\n",
    "# # ISSUES - fixed in the original Ethnologue processing `data_cleaning_notebooks/extract_ethnologue_data.ipynb`\n",
    "# # Czechia, it changed named and messed up the data\n",
    "# # Eswatini also changed name!!\n",
    "# # Vietnam changed from Viet Nam to Vietnam\n",
    "\n",
    "# # Rename the countries in the population df to match the language df\n",
    "# pop_df.index = pop_df.index.map(lambda x: pop_to_lang_country_map[x] if x in pop_to_lang_country_map else x)\n",
    "\n",
    "# # verify that all the countries in the language df are in the population df\n",
    "# pop_countries = pop_df.index.unique()\n",
    "# lang_countries.difference(pop_countries)"
   ]
  },
  {
   "cell_type": "markdown",
   "metadata": {},
   "source": [
    "### Combine Population and Language Data\n",
    "\n"
   ]
  },
  {
   "cell_type": "code",
   "execution_count": null,
   "metadata": {},
   "outputs": [],
   "source": [
    "# stacked_pop_df = pop_df.stack()\n",
    "# stacked_pop_df.index.names = [\"Country\", \"Year\"]\n",
    "# stacked_pop_df"
   ]
  },
  {
   "cell_type": "code",
   "execution_count": null,
   "metadata": {},
   "outputs": [],
   "source": [
    "total_speakers_df = total_speakers_df.assign(Population=pop_df)\n",
    "l1_speakers_df = l1_speakers_df.assign(Population=pop_df)\n",
    "l2_speakers_df = l2_speakers_df.assign(Population=pop_df)\n",
    "\n",
    "l1_speakers_df"
   ]
  },
  {
   "cell_type": "markdown",
   "metadata": {},
   "source": [
    "### Country-Region Mapping"
   ]
  },
  {
   "cell_type": "code",
   "execution_count": null,
   "metadata": {},
   "outputs": [],
   "source": [
    "country_region_df = pd.read_csv(os.path.join(\"data\", \"regions.csv\"))\n",
    "country_region_df = country_region_df.set_index(\"Country\")\n",
    "# convert to series\n",
    "country_region_series = pd.Series(index=country_region_df.index, data=country_region_df[\"Region\"])\n",
    "country_region_series"
   ]
  },
  {
   "cell_type": "code",
   "execution_count": null,
   "metadata": {},
   "outputs": [],
   "source": [
    "# Add the regions to the total_speakers_df\n",
    "# Apply the mapping to the 0th level of the index\n",
    "total_speakers_df = total_speakers_df.assign(Region=total_speakers_df.index.get_level_values(0).map(country_region_series))\n",
    "\n",
    "# Add the regions to the l1_speakers_df\n",
    "l1_speakers_df = l1_speakers_df.assign(Region=l1_speakers_df.index.get_level_values(0).map(country_region_series))\n",
    "\n",
    "# Add the regions to the l2_speakers_df\n",
    "l2_speakers_df = l2_speakers_df.assign(Region=l2_speakers_df.index.get_level_values(0).map(country_region_series))\n",
    "\n",
    "l1_speakers_df"
   ]
  },
  {
   "cell_type": "code",
   "execution_count": null,
   "metadata": {},
   "outputs": [],
   "source": [
    "# Which countries have no region?\n",
    "total_speakers_df[total_speakers_df[\"Region\"].isnull()].index.get_level_values(0).unique()"
   ]
  },
  {
   "cell_type": "code",
   "execution_count": null,
   "metadata": {},
   "outputs": [],
   "source": [
    "# Drop the countries with no region\n",
    "total_speakers_df = total_speakers_df[total_speakers_df[\"Region\"].notnull()]\n",
    "l1_speakers_df = l1_speakers_df[l1_speakers_df[\"Region\"].notnull()]\n",
    "l2_speakers_df = l2_speakers_df[l2_speakers_df[\"Region\"].notnull()]\n",
    "\n",
    "l1_speakers_df"
   ]
  },
  {
   "cell_type": "code",
   "execution_count": null,
   "metadata": {},
   "outputs": [],
   "source": [
    "# Drop the countries with no population\n",
    "total_speakers_df = total_speakers_df[total_speakers_df[\"Population\"].notnull()]\n",
    "l1_speakers_df = l1_speakers_df[l1_speakers_df[\"Population\"].notnull()]\n",
    "l2_speakers_df = l2_speakers_df[l2_speakers_df[\"Population\"].notnull()]\n"
   ]
  },
  {
   "cell_type": "markdown",
   "metadata": {},
   "source": [
    "### Sum data by region\n",
    "\n",
    "The idea is to smooth out country level inaccuracies (and infrequent data collection) by grouping countries together."
   ]
  },
  {
   "cell_type": "code",
   "execution_count": null,
   "metadata": {},
   "outputs": [],
   "source": [
    "region_total_speakers_df = total_speakers_df.groupby([\"Region\", \"Year\"]).sum()\n",
    "region_l1_speakers_df = l1_speakers_df.groupby([\"Region\", \"Year\"]).sum()\n",
    "region_l2_speakers_df = l2_speakers_df.groupby([\"Region\", \"Year\"]).sum()\n",
    "\n",
    "region_l1_speakers_df"
   ]
  },
  {
   "cell_type": "code",
   "execution_count": null,
   "metadata": {},
   "outputs": [],
   "source": [
    "ratio_region_total_speakers_df = utils.regional_numbers_to_ratios(region_total_speakers_df)\n",
    "ratio_region_l1_speakers_df = utils.regional_numbers_to_ratios(region_l1_speakers_df)\n",
    "ratio_region_l2_speakers_df = utils.regional_numbers_to_ratios(region_l2_speakers_df)\n",
    "\n",
    "ratio_region_l1_speakers_df.head(20)"
   ]
  },
  {
   "cell_type": "markdown",
   "metadata": {},
   "source": [
    "# Plot to verify correctness\n"
   ]
  },
  {
   "cell_type": "code",
   "execution_count": null,
   "metadata": {},
   "outputs": [],
   "source": [
    "regions = ratio_region_total_speakers_df.index.get_level_values(0).unique()\n",
    "lang_codes = ratio_region_total_speakers_df.columns\n",
    "lang_names = {\"arz\": \"Arabic\",\t\"ben\": \"Bengali\",\"cmn\": \"Mandarin\", \"deu\": \"German\",\t\"eng\": \"English\",\t\"fra\": \"French\",\t\"hin\": \"Hindi\",\t\"ind\": \"Indonesian\",\t\"jpn\": \"Japanese\", \t\"por\": \"Portuguese\",\t\"rus\": \"Russian\",\t\"spa\": \"Spanish\",\t\"urd\": \"Urdu\"}\n",
    "\n",
    "color_list = [\"tab:blue\", \"tab:orange\", \"tab:green\", \"tab:red\", \"tab:purple\", \"tab:brown\", \"tab:pink\", \"tab:gray\", \"tab:olive\", \"tab:cyan\", \"m\", \"k\", \"lime\"]"
   ]
  },
  {
   "cell_type": "code",
   "execution_count": null,
   "metadata": {},
   "outputs": [],
   "source": [
    "# Uncomment a block to plot each regional graph for the given type of speaker\n",
    "\n",
    "# Total Speakers\n",
    "for region in regions:\n",
    "    utils.plot_region(region, lang_codes, lang_names, ratio_region_total_speakers_df, \"Number of speakers / Population\", \"Total Speakers as a Fraction of Population\", color_list)\n",
    "\n",
    "# # L1 Speakers\n",
    "# for region in regions:\n",
    "#     utils.plot_region(region, lang_codes, lang_names, ratio_region_l1_speakers_df, \"Number of speakers / Population\", \"L1 Speakers as a Fraction of Population\", color_list)\n",
    "\n",
    "# # L2 Speakers\n",
    "# for region in regions:\n",
    "#     utils.plot_region(region, lang_codes, lang_names, ratio_region_l2_speakers_df, \"Number of speakers / Population\", \"L2 Speakers as a Fraction of Population\", color_list)"
   ]
  },
  {
   "cell_type": "markdown",
   "metadata": {},
   "source": [
    "# Log Odds"
   ]
  },
  {
   "cell_type": "code",
   "execution_count": null,
   "metadata": {},
   "outputs": [],
   "source": [
    "# total\n",
    "log_odds_region_total_speakers_df = np.log(ratio_region_total_speakers_df / (1 - ratio_region_total_speakers_df))\n",
    "\n",
    "# replace -inf with nan\n",
    "log_odds_region_total_speakers_df.replace(-np.inf, np.nan, inplace=True)\n",
    "\n",
    "# L1\n",
    "log_odds_region_l1_speakers_df = np.log(ratio_region_l1_speakers_df / (1 - ratio_region_l1_speakers_df))\n",
    "\n",
    "# replace -inf with nan\n",
    "log_odds_region_l1_speakers_df.replace(-np.inf, np.nan, inplace=True)\n",
    "\n",
    "# L2\n",
    "log_odds_region_l2_speakers_df = np.log(ratio_region_l2_speakers_df / (1 - ratio_region_l2_speakers_df))\n",
    "\n",
    "# replace -inf with nan\n",
    "log_odds_region_l2_speakers_df.replace(-np.inf, np.nan, inplace=True)\n",
    "\n",
    "log_odds_region_l2_speakers_df.head(20)"
   ]
  },
  {
   "cell_type": "code",
   "execution_count": null,
   "metadata": {},
   "outputs": [],
   "source": [
    "# Uncomment a block to plot each regional graph for the given type of speaker\n",
    "\n",
    "# # Total Speakers\n",
    "# for region in regions:\n",
    "#     utils.plot_region(region, lang_codes, lang_names, log_odds_region_total_speakers_df, \"log(ratio / (1 - ratio))\", \"Log Odds of Total Speakers as a Fraction of Population\", color_list)\n",
    "\n",
    "# # L1 Speakers\n",
    "# for region in regions:\n",
    "#     utils.plot_region(region, lang_codes, lang_names, log_odds_region_l1_speakers_df, \"log(ratio / (1 - ratio))\", \"Log Odds of L1 Speakers as a Fraction of Population\", color_list)\n",
    "\n",
    "# # L2 Speakers\n",
    "# for region in regions:\n",
    "#     utils.plot_region(region, lang_codes, lang_names, log_odds_region_l2_speakers_df, \"log(ratio / (1 - ratio))\", \"Log Odds of L2 Speakers as a Fraction of Population\", color_list)"
   ]
  },
  {
   "cell_type": "markdown",
   "metadata": {},
   "source": [
    "## Regression for log odds"
   ]
  },
  {
   "cell_type": "code",
   "execution_count": null,
   "metadata": {},
   "outputs": [],
   "source": [
    "regression_total_speakers_df = utils.create_log_odds_regression_line(log_odds_region_total_speakers_df, regions, lang_codes)\n",
    "\n",
    "regression_l1_speakers_df = utils.create_log_odds_regression_line(log_odds_region_l1_speakers_df, regions, lang_codes)\n",
    "\n",
    "regression_l2_speakers_df = utils.create_log_odds_regression_line(log_odds_region_l2_speakers_df, regions, lang_codes)\n",
    "\n",
    "regression_l2_speakers_df"
   ]
  },
  {
   "cell_type": "markdown",
   "metadata": {},
   "source": [
    "## Convert back to language speakers\n",
    "\n",
    "Goal: A table with regional projections per language for 2025, 2030, 2035, 2040, 2045, 2050.\n",
    "\n",
    "Break it down into baby steps\n",
    "1. Use the regression lines to calculate values at 2025, 2030, 2035, 2040, 2045, 2050.\n",
    "2. Undo the log-odds part to get a ratio\n",
    "3. Use the projections to get a raw number\n",
    "4. (BONUS) Graphically display which languages have big populations where "
   ]
  },
  {
   "cell_type": "code",
   "execution_count": null,
   "metadata": {},
   "outputs": [],
   "source": [
    "# Use the regression lines to predict up to 2050 (implicit in the function, can change the years if desired)\n",
    "future_log_odds_region_total_speakers_df = utils.create_future_log_odds_df(regression_total_speakers_df, regions, lang_codes)\n",
    "\n",
    "future_log_odds_region_l1_speakers_df = utils.create_future_log_odds_df(regression_l1_speakers_df, regions, lang_codes)\n",
    "\n",
    "future_log_odds_region_l2_speakers_df = utils.create_future_log_odds_df(regression_l2_speakers_df, regions, lang_codes)\n",
    "\n",
    "future_log_odds_region_l2_speakers_df"
   ]
  },
  {
   "cell_type": "markdown",
   "metadata": {},
   "source": [
    "### Undo Log Odds\n",
    "\n",
    "Formula: Let $r$ be the ratio (which we want at the end of this step) and $l$ be the log odds (which we have).\n",
    "$$\n",
    "r = \\frac{e^l}{1+e^l} = \\frac{1}{e^{-l}+1}\n",
    "$$"
   ]
  },
  {
   "cell_type": "code",
   "execution_count": null,
   "metadata": {},
   "outputs": [],
   "source": [
    "future_ratio_region_total_speakers_df = 1 / (1 + np.exp(-future_log_odds_region_total_speakers_df.astype(float)))\n",
    "\n",
    "future_ratio_region_l1_speakers_df = 1 / (1 + np.exp(-future_log_odds_region_l1_speakers_df.astype(float)))\n",
    "\n",
    "future_ratio_region_l2_speakers_df = 1 / (1 + np.exp(-future_log_odds_region_l2_speakers_df.astype(float)))\n",
    "\n",
    "future_ratio_region_l2_speakers_df"
   ]
  },
  {
   "cell_type": "markdown",
   "metadata": {},
   "source": [
    "### Undo ratios\n",
    "\n",
    "Using population predictions"
   ]
  },
  {
   "cell_type": "code",
   "execution_count": null,
   "metadata": {},
   "outputs": [],
   "source": [
    "# Load in the population projections\n",
    "pop_proj_df = pd.read_csv(\"data/population_projections.csv\")\n",
    "pop_proj_df = pop_proj_df.set_index([\"Country\", \"Year\"])\n",
    "pop_proj_df"
   ]
  },
  {
   "cell_type": "code",
   "execution_count": null,
   "metadata": {},
   "outputs": [],
   "source": [
    "# Check which countries in the language data are not in the population projections\n",
    "lang_countries = total_speakers_df.index.get_level_values(0).unique()\n",
    "pop_proj_countries = pop_proj_df.index.get_level_values(0).unique()\n",
    "\n",
    "lang_countries.difference(pop_proj_countries)"
   ]
  },
  {
   "cell_type": "code",
   "execution_count": null,
   "metadata": {},
   "outputs": [],
   "source": [
    "pop_proj_countries.difference(lang_countries)"
   ]
  },
  {
   "cell_type": "code",
   "execution_count": null,
   "metadata": {},
   "outputs": [],
   "source": [
    "# # Rename the countries in the population projections to match the language df\n",
    "# pop_proj_rename_map = {\"Bolivia (Plurinational State of)\": \"Bolivia\", \"Brunei Darussalam\": \"Brunei\", \"Cabo Verde\": \"Cape Verde Islands\", \"China, Hong Kong SAR\": \"Hong Kong\", \"China, Macao SAR\": \"Macao\", \"Curaçao\": \"Curacao\", \"Côte d'Ivoire\": \"Côte d’Ivoire\", \"Timor-Leste\": \"East Timor\", \"Iran (Islamic Republic of)\": \"Iran\", \"Lao People's Democratic Republic\": \"Laos\", \"Republic of Moldova\": \"Moldova\", \"State of Palestine\": \"Palestine\", \"Saint Martin (French part)\": \"Saint Martin\", \"Sint Maarten (Dutch part)\": \"Sint Maarten\", \"Republic of Korea\": \"South Korea\", \"Syrian Arab Republic\": \"Syria\", \"Sao Tome and Principe\": \"São Tomé e Príncipe\", \"United Republic of Tanzania\": \"Tanzania\", \"Türkiye\": \"Turkey\", \"United States Virgin Islands\": \"U.S. Virgin Islands\", \"United States of America\": \"United States\", \"Venezuela (Bolivarian Republic of)\": \"Venezuela\", \"Viet Nam\": \"Vietnam\"}\n",
    "\n",
    "# pop_proj_df.index = pop_proj_df.index.map(lambda x: (pop_proj_rename_map[x[0]],x[1]) if x[0] in pop_proj_rename_map else x)\n",
    "\n",
    "# # Verify that all the countries in the language df are in the population projections df\n",
    "# pop_proj_countries = pop_proj_df.index.get_level_values(0).unique()\n",
    "# lang_countries.difference(pop_proj_countries)"
   ]
  },
  {
   "cell_type": "code",
   "execution_count": null,
   "metadata": {},
   "outputs": [],
   "source": [
    "# Aggregate the population projections by region\n",
    "\n",
    "# Add the regions to the pop_proj_df\n",
    "# Apply the mapping to the 0th level of the index\n",
    "pop_proj_df = pop_proj_df.assign(Region=pop_proj_df.index.get_level_values(0).map(country_region_series))\n",
    "\n",
    "# Sum the population projections by region\n",
    "pop_proj_df = pop_proj_df.groupby([\"Region\", \"Year\"]).sum()\n",
    "\n",
    "pop_proj_df"
   ]
  },
  {
   "cell_type": "code",
   "execution_count": null,
   "metadata": {},
   "outputs": [],
   "source": [
    "# Add population projections to the future_ratio_region_speakers_df's\n",
    "\n",
    "# Total Speakers\n",
    "future_ratio_region_total_speakers_df = future_ratio_region_total_speakers_df.assign(Population=pop_proj_df[\"Population\"])\n",
    "\n",
    "# L1 Speakers\n",
    "future_ratio_region_l1_speakers_df = future_ratio_region_l1_speakers_df.assign(Population=pop_proj_df[\"Population\"])\n",
    "\n",
    "# L2 Speakers\n",
    "future_ratio_region_l2_speakers_df = future_ratio_region_l2_speakers_df.assign(Population=pop_proj_df[\"Population\"])\n",
    "\n",
    "future_ratio_region_l2_speakers_df"
   ]
  },
  {
   "cell_type": "code",
   "execution_count": null,
   "metadata": {},
   "outputs": [],
   "source": [
    "# Convert the ratios to numbers\n",
    "\n",
    "# Total Speakers\n",
    "future_total_speakers_df = utils.create_future_speakers_df(future_ratio_region_total_speakers_df)\n",
    "\n",
    "# L1 Speakers\n",
    "future_l1_speakers_df = utils.create_future_speakers_df(future_ratio_region_l1_speakers_df)\n",
    "\n",
    "# L2 Speakers\n",
    "future_l2_speakers_df = utils.create_future_speakers_df(future_ratio_region_l2_speakers_df)\n",
    "\n",
    "future_l2_speakers_df.loc[\"Western Europe\"]"
   ]
  },
  {
   "cell_type": "markdown",
   "metadata": {},
   "source": [
    "# Combine L1 and L2"
   ]
  },
  {
   "cell_type": "code",
   "execution_count": null,
   "metadata": {},
   "outputs": [],
   "source": [
    "# Combine L1 and L2 projections\n",
    "\n",
    "# Fill zeros for the missing values in the L1 and L2 dfs\n",
    "future_l1_speakers_df.fillna(0, inplace=True)\n",
    "future_l2_speakers_df.fillna(0, inplace=True)\n",
    "\n",
    "future_l1_l2_speakers_df = future_l1_speakers_df + future_l2_speakers_df\n",
    "future_l1_l2_speakers_df[\"Population\"] = future_l1_speakers_df[\"Population\"]\n",
    "\n",
    "future_l1_l2_speakers_df"
   ]
  },
  {
   "cell_type": "markdown",
   "metadata": {},
   "source": [
    "# Plot the future!!"
   ]
  },
  {
   "cell_type": "code",
   "execution_count": null,
   "metadata": {},
   "outputs": [],
   "source": [
    "# Combine the region_total_speakers_df and the future_total_speakers_df\n",
    "combined_speakers_df = pd.concat([region_total_speakers_df, future_l1_l2_speakers_df])\n",
    "# sort the index\n",
    "combined_speakers_df.sort_index(inplace=True)\n",
    "\n",
    "combined_speakers_df.loc[\"Western Europe\"]"
   ]
  },
  {
   "cell_type": "code",
   "execution_count": null,
   "metadata": {},
   "outputs": [],
   "source": [
    "# grab the names of the regions\n",
    "regions = combined_speakers_df.index.get_level_values(0).unique()\n",
    "\n",
    "# plot the regions\n",
    "for region in regions:\n",
    "    utils.plot_proj_region(region, lang_codes, lang_names, combined_speakers_df, \"Number of speakers\", \"L1+L2 Projections\", color_list)"
   ]
  },
  {
   "cell_type": "code",
   "execution_count": null,
   "metadata": {},
   "outputs": [],
   "source": [
    "# Combine the region_total_speakers_df and the future_total_speakers_df\n",
    "combined_total_speakers_df = pd.concat([region_total_speakers_df, future_total_speakers_df])\n",
    "\n",
    "\n",
    "# grab the names of the regions\n",
    "regions = combined_speakers_df.index.get_level_values(0).unique()\n",
    "\n",
    "# plot the regions\n",
    "for region in regions:\n",
    "    utils.plot_proj_region(region, lang_codes, lang_names, combined_total_speakers_df, \"Number of speakers\", \"Total Projected Speakers\", color_list)"
   ]
  },
  {
   "cell_type": "markdown",
   "metadata": {},
   "source": [
    "# Prep Data for Exporting"
   ]
  },
  {
   "cell_type": "code",
   "execution_count": null,
   "metadata": {},
   "outputs": [],
   "source": [
    "combined_total_speakers_df"
   ]
  },
  {
   "cell_type": "markdown",
   "metadata": {},
   "source": [
    "## Types of data\n",
    "\n",
    "All of this will either be normalized by regional population or not.\n",
    "\n",
    "1. Raw projections from the total number of speakers\n",
    "2. Raw projections from L1+L2 (far less accurate, bad methodology)\n",
    "3. Regional populations\n",
    "4. Raw projections from total number of speakers, filtering out languages that had less than (1%? 3%? 5%?) in 2020\n"
   ]
  },
  {
   "cell_type": "code",
   "execution_count": null,
   "metadata": {},
   "outputs": [],
   "source": [
    "# Regional populations\n",
    "region_pop_df = combined_total_speakers_df[\"Population\"]\n",
    "\n",
    "# reindex based on year, then region\n",
    "region_pop_df.reorder_levels([1, \"Region\"]).loc[2050].to_csv(\"data/region_populations.csv\") "
   ]
  },
  {
   "cell_type": "code",
   "execution_count": null,
   "metadata": {},
   "outputs": [],
   "source": []
  }
 ],
 "metadata": {
  "kernelspec": {
   "display_name": "math",
   "language": "python",
   "name": "python3"
  },
  "language_info": {
   "codemirror_mode": {
    "name": "ipython",
    "version": 3
   },
   "file_extension": ".py",
   "mimetype": "text/x-python",
   "name": "python",
   "nbconvert_exporter": "python",
   "pygments_lexer": "ipython3"
  }
 },
 "nbformat": 4,
 "nbformat_minor": 2
}
