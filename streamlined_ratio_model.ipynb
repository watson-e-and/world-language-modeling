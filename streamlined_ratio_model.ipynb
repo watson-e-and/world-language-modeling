{
 "cells": [
  {
   "cell_type": "markdown",
   "metadata": {},
   "source": [
    "# Ratio Model \n",
    "\n",
    "We're going to combine the historic language data with historic population data using a ratio and then taking the log odds. Then, we'll project into the future linearly, undo the log odds, and multiply by UN population projections to get the "
   ]
  },
  {
   "cell_type": "code",
   "execution_count": null,
   "metadata": {},
   "outputs": [],
   "source": [
    "import pandas as pd\n",
    "import numpy as np\n",
    "import matplotlib.pyplot as plt\n",
    "from scipy import stats\n",
    "import os\n",
    "\n",
    "from math import nan"
   ]
  },
  {
   "cell_type": "markdown",
   "metadata": {},
   "source": [
    "## Bring in data\n",
    "\n",
    "Most of this data was preprocessed by scripts in the folder `data_cleaning_notebooks` with raw data from the `raw_data` folder."
   ]
  },
  {
   "cell_type": "code",
   "execution_count": null,
   "metadata": {},
   "outputs": [],
   "source": [
    "# Load in files and set first two colums as index\n",
    "\n",
    "total_speakers_df = pd.read_csv(os.path.join(\"data\", \"cleaned_total_speakers.csv\"))\n",
    "total_speakers_df = total_speakers_df.set_index([\"Country\", \"Year\"])\n",
    "l1_speakers_df = pd.read_csv(os.path.join(\"data\", \"cleaned_l1_speakers.csv\"))\n",
    "l1_speakers_df = l1_speakers_df.set_index([\"Country\", \"Year\"])\n",
    "l2_speakers_df = pd.read_csv(os.path.join(\"data\", \"cleaned_l2_speakers.csv\"))\n",
    "l2_speakers_df = l2_speakers_df.set_index([\"Country\", \"Year\"])\n",
    "\n",
    "total_speakers_df"
   ]
  },
  {
   "cell_type": "code",
   "execution_count": null,
   "metadata": {},
   "outputs": [],
   "source": [
    "pop_df = pd.read_csv(os.path.join(\"raw_data\", \"World_Population_Data.csv\"), header=2)"
   ]
  },
  {
   "cell_type": "code",
   "execution_count": null,
   "metadata": {},
   "outputs": [],
   "source": [
    "pop_df = pop_df.drop(columns = [\"Indicator Name\", \"Indicator Code\", \"Country Code\", \"Unnamed: 67\"])\n",
    "pop_df = pop_df.set_index(\"Country Name\")\n",
    "# rename index to Country\n",
    "pop_df.index.names = [\"Country\"]\n",
    "\n",
    "pop_df.columns = pop_df.columns.astype(int)\n",
    "pop_df"
   ]
  },
  {
   "cell_type": "markdown",
   "metadata": {},
   "source": [
    "### Check which country names don't align\n",
    "\n",
    "Different data sources use different names, next time we'll use the ISO country codes."
   ]
  },
  {
   "cell_type": "code",
   "execution_count": null,
   "metadata": {},
   "outputs": [],
   "source": [
    "lang_countries = total_speakers_df.index.get_level_values(0).unique()\n",
    "pop_countries = pop_df.index.unique()\n",
    "\n",
    "len(lang_countries), len(pop_countries)"
   ]
  },
  {
   "cell_type": "code",
   "execution_count": null,
   "metadata": {},
   "outputs": [],
   "source": [
    "# find all the countries that only appear in the language df\n",
    "lang_only_countries = lang_countries.difference(pop_countries)\n",
    "lang_only_countries"
   ]
  },
  {
   "cell_type": "code",
   "execution_count": null,
   "metadata": {},
   "outputs": [],
   "source": [
    "# find all the countries that only appear in the population df\n",
    "pop_only_countries = pop_countries.difference(lang_countries)\n",
    "pop_only_countries"
   ]
  },
  {
   "cell_type": "code",
   "execution_count": null,
   "metadata": {},
   "outputs": [],
   "source": [
    "pop_to_lang_country_map = {\"Bahamas, The\": \"Bahamas\", \"Brunei Darussalam\": \"Brunei\", \"Cabo Verde\": \"Cape Verde Islands\", \"Hong Kong SAR, China\": \"Hong Kong\", \"Macao SAR, China\": \"Macao\", \"Congo, Rep.\": \"Congo\", \"Congo, Dem. Rep.\": \"Democratic Republic of the Congo\", \"Cote d'Ivoire\": \"Côte d’Ivoire\", \"Timor-Leste\": \"East Timor\", \"Egypt, Arab Rep.\": \"Egypt\", \"Gambia, The\": \"Gambia\", \"Iran, Islamic Rep.\": \"Iran\", \"Kyrgyz Republic\": \"Kyrgyzstan\", \"Lao PDR\": \"Laos\", \"West Bank and Gaza\": \"Palestine\", 'St. Kitts and Nevis': \"Saint Kitts and Nevis\", \"St. Lucia\": \"Saint Lucia\", \"St. Vincent and the Grenadines\": \"Saint Vincent and the Grenadines\", \"St. Martin (French part)\": \"Saint Martin\", \"Sint Maarten (Dutch part)\": \"Sint Maarten\", \"Slovak Republic\": \"Slovakia\", \"Korea, Rep.\": \"South Korea\", \"Syrian Arab Republic\": \"Syria\", \"Sao Tome and Principe\": \"São Tomé e Príncipe\", \"Turkiye\": \"Turkey\", \"Virgin Islands (U.S.)\": \"U.S. Virgin Islands\", \"Venezuela, RB\": \"Venezuela\", \"Viet Nam\": \"Vietnam\", \"Yemen, Rep.\": \"Yemen\"}\n",
    "\n",
    "# not included\n",
    "# Anguilla, British Indian Ocean Territory, Caribbean Netherlands, Taiwan, Christmas Island, Cocos (Keeling) Islands, Cook Islands, Falkland Islands, French Guiana, Guadaloupe, Guernsey, Martinique, Mayotte, Niue, Norfolk Island, Réunion, Saint Barthélemy, Saint Helena, Saint Helena, Ascension, and Tristan da Cunha, Saint Pierre and Miquelon, Taiwan, Tokelau, Wallis and Futuna, Western Sahara\n",
    "\n",
    "# ISSUES - fixed in the original Ethnologue processing `data_cleaning_notebooks/extract_ethnologue_data.ipynb`\n",
    "# Czechia, it changed named and messed up the data\n",
    "# Eswatini also changed name!!\n",
    "# Vietnam changed from Viet Nam to Vietnam\n",
    "\n",
    "# Rename the countries in the population df to match the language df\n",
    "pop_df.index = pop_df.index.map(lambda x: pop_to_lang_country_map[x] if x in pop_to_lang_country_map else x)\n",
    "\n",
    "# verify that all the countries in the language df are in the population df\n",
    "pop_countries = pop_df.index.unique()\n",
    "lang_countries.difference(pop_countries)"
   ]
  },
  {
   "cell_type": "markdown",
   "metadata": {},
   "source": [
    "### Combine Population and Language Data\n",
    "\n"
   ]
  },
  {
   "cell_type": "code",
   "execution_count": null,
   "metadata": {},
   "outputs": [],
   "source": [
    "stacked_pop_df = pop_df.stack()\n",
    "stacked_pop_df.index.names = [\"Country\", \"Year\"]\n",
    "stacked_pop_df"
   ]
  },
  {
   "cell_type": "code",
   "execution_count": null,
   "metadata": {},
   "outputs": [],
   "source": [
    "total_speakers_df = total_speakers_df.assign(Population=stacked_pop_df)\n",
    "l1_speakers_df = l1_speakers_df.assign(Population=stacked_pop_df)\n",
    "l2_speakers_df = l2_speakers_df.assign(Population=stacked_pop_df)\n",
    "\n",
    "l1_speakers_df"
   ]
  },
  {
   "cell_type": "markdown",
   "metadata": {},
   "source": [
    "### Country-Region Mapping"
   ]
  },
  {
   "cell_type": "code",
   "execution_count": null,
   "metadata": {},
   "outputs": [],
   "source": [
    "country_region_df = pd.read_csv(os.path.join(\"data\", \"regions.csv\"))\n",
    "country_region_df = country_region_df.set_index(\"Country\")\n",
    "# convert to series\n",
    "country_region_series = pd.Series(index=country_region_df.index, data=country_region_df[\"Region\"])\n",
    "country_region_series"
   ]
  },
  {
   "cell_type": "code",
   "execution_count": null,
   "metadata": {},
   "outputs": [],
   "source": [
    "# Add the regions to the total_speakers_df\n",
    "# Apply the mapping to the 0th level of the index\n",
    "total_speakers_df = total_speakers_df.assign(Region=total_speakers_df.index.get_level_values(0).map(country_region_series))\n",
    "\n",
    "# Add the regions to the l1_speakers_df\n",
    "l1_speakers_df = l1_speakers_df.assign(Region=l1_speakers_df.index.get_level_values(0).map(country_region_series))\n",
    "\n",
    "# Add the regions to the l2_speakers_df\n",
    "l2_speakers_df = l2_speakers_df.assign(Region=l2_speakers_df.index.get_level_values(0).map(country_region_series))\n",
    "\n",
    "l1_speakers_df"
   ]
  },
  {
   "cell_type": "code",
   "execution_count": null,
   "metadata": {},
   "outputs": [],
   "source": [
    "# Which countries have no region?\n",
    "total_speakers_df[total_speakers_df[\"Region\"].isnull()].index.get_level_values(0).unique()"
   ]
  },
  {
   "cell_type": "code",
   "execution_count": null,
   "metadata": {},
   "outputs": [],
   "source": [
    "# Drop the countries with no region\n",
    "total_speakers_df = total_speakers_df[total_speakers_df[\"Region\"].notnull()]\n",
    "l1_speakers_df = l1_speakers_df[l1_speakers_df[\"Region\"].notnull()]\n",
    "l2_speakers_df = l2_speakers_df[l2_speakers_df[\"Region\"].notnull()]\n",
    "\n",
    "l1_speakers_df"
   ]
  }
 ],
 "metadata": {
  "kernelspec": {
   "display_name": "math",
   "language": "python",
   "name": "python3"
  },
  "language_info": {
   "codemirror_mode": {
    "name": "ipython",
    "version": 3
   },
   "file_extension": ".py",
   "mimetype": "text/x-python",
   "name": "python",
   "nbconvert_exporter": "python",
   "pygments_lexer": "ipython3"
  }
 },
 "nbformat": 4,
 "nbformat_minor": 2
}
