{
 "cells": [
  {
   "cell_type": "markdown",
   "metadata": {},
   "source": [
    "# Check for missing data\n",
    "\n",
    "Problem: We noticed that East Asia had very very few Mandarin speakers. Turns out that we were missing China! \n",
    "\n",
    "Goal: Look for potential other instances of this problem.\n",
    "\n",
    "Suspicion: We're missing speakers in a country where the language \"originated\". Missing Mandarin in China, English in the UK, Spanish in Spain, etc"
   ]
  },
  {
   "cell_type": "code",
   "execution_count": null,
   "metadata": {},
   "outputs": [],
   "source": [
    "import pandas as pd\n",
    "import numpy as np\n",
    "import matplotlib.pyplot as plt\n",
    "\n",
    "import os"
   ]
  },
  {
   "cell_type": "code",
   "execution_count": null,
   "metadata": {},
   "outputs": [],
   "source": [
    "# Read in the total speakers cleaned data\n",
    "\n",
    "speakers_df = pd.read_csv('../data/cleaned_total_speakers.csv')\n",
    "\n",
    "# Set country and year as index\n",
    "speakers_df.set_index(['Year', \"Country\"], inplace=True)\n",
    "\n",
    "speakers_df"
   ]
  },
  {
   "cell_type": "code",
   "execution_count": null,
   "metadata": {},
   "outputs": [],
   "source": [
    "# Get the total number of speakers for each language from year 2022\n",
    "\n",
    "most_recent_speakers = speakers_df.loc[2022]\n",
    "\n",
    "total_speakers = most_recent_speakers.sum(axis=0)\n",
    "total_speakers"
   ]
  },
  {
   "cell_type": "code",
   "execution_count": null,
   "metadata": {},
   "outputs": [],
   "source": [
    "# import manual total speakers data  \n",
    "manual_total_speakers = pd.read_csv('../misc_data/manual_total_speakers.csv')\n",
    "manual_total_speakers.set_index('Language', inplace=True)\n",
    "manual_total_speakers"
   ]
  },
  {
   "cell_type": "code",
   "execution_count": null,
   "metadata": {},
   "outputs": [],
   "source": [
    "# rename the languages in total_speakers to match the manual_total_speakers\n",
    "\n",
    "language_dict = {\"arz\": \"Egyptian Arabic\", \"ben\": \"Bengali\", \"cmn\": \"Mandarin Chinese\", \"deu\": \"German\", \"eng\": \"English\", \"fra\": \"French\", \"hin\": \"Hindi\", \"ind\": \"Indonesian\", \"jpn\": \"Japanese\", \"por\": \"Portuguese\", \"rus\": \"Russian\", \"spa\": \"Spanish\", \"urd\": \"Urdu\"}\n",
    "\n",
    "total_speakers.rename(language_dict, inplace=True)\n",
    "total_speakers"
   ]
  },
  {
   "cell_type": "code",
   "execution_count": null,
   "metadata": {},
   "outputs": [],
   "source": [
    "# add the total_speakers to the manual_total_speakers\n",
    "manual_total_speakers['Total Speakers'] = total_speakers\n",
    "manual_total_speakers"
   ]
  },
  {
   "cell_type": "code",
   "execution_count": null,
   "metadata": {},
   "outputs": [],
   "source": [
    "# Compute the difference between 2022 manual_total_speakers and the most recent data\n",
    "manual_total_speakers['Difference'] = manual_total_speakers['2022'] - manual_total_speakers['Total Speakers']\n",
    "\n",
    "manual_total_speakers['Difference']"
   ]
  }
 ],
 "metadata": {
  "kernelspec": {
   "display_name": "math",
   "language": "python",
   "name": "python3"
  },
  "language_info": {
   "codemirror_mode": {
    "name": "ipython",
    "version": 3
   },
   "file_extension": ".py",
   "mimetype": "text/x-python",
   "name": "python",
   "nbconvert_exporter": "python",
   "pygments_lexer": "ipython3"
  }
 },
 "nbformat": 4,
 "nbformat_minor": 2
}
