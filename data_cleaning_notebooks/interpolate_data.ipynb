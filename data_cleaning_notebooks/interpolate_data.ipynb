{
 "cells": [
  {
   "cell_type": "markdown",
   "metadata": {},
   "source": [
    "# Fill in missing data\n",
    "Where we have a reasonable guess.\n",
    "\n",
    "Two scenarios\n",
    "1. Fill in missing data from scraping error (ie no Mandarin speakers in China)\n",
    "2. When we have total speaker data for most years, but only L1 and L2 for a few years, we can reasonably assume that the ratio L1/population is somewhat constant, and then calculate L2 from total and guessed L1"
   ]
  },
  {
   "cell_type": "markdown",
   "metadata": {},
   "source": [
    "## Fix Scrape Error"
   ]
  },
  {
   "cell_type": "code",
   "execution_count": null,
   "metadata": {},
   "outputs": [],
   "source": [
    "import pandas as pd\n",
    "import numpy as np\n",
    "\n",
    "import math"
   ]
  },
  {
   "cell_type": "code",
   "execution_count": null,
   "metadata": {},
   "outputs": [],
   "source": [
    "# Helpful maps\n",
    "lang_code_to_name = {\"arz\": \"Egyptian Arabic\", \"ben\": \"Bengali\", \"cmn\": \"Mandarin Chinese\", \"deu\": \"German\", \"eng\": \"English\", \"fra\": \"French\", \"hin\": \"Hindi\", \"ind\": \"Indonesian\", \"jpn\": \"Japanese\", \"por\": \"Portuguese\", \"rus\": \"Russian\", \"spa\": \"Spanish\", \"urd\": \"Urdu\"}\n",
    "\n",
    "name_to_lang_code = {\"Egyptian Arabic\": \"arz\", \"Bengali\": \"ben\", \"Mandarin Chinese\": \"cmn\", \"German\": \"deu\", \"English\": \"eng\", \"French\": \"fra\", \"Hindi\": \"hin\", \"Indonesian\": \"ind\", \"Japanese\": \"jpn\", \"Portuguese\": \"por\", \"Russian\": \"rus\", \"Spanish\": \"spa\", \"Urdu\": \"urd\"}\n",
    "\n",
    "lang_code_to_country = {\"arz\": \"Egypt\", \"ben\": \"Bangladesh\", \"cmn\": \"China\", \"deu\": \"Germany\", \"eng\": \"United Kingdom\", \"fra\": \"France\", \"hin\": \"India\", \"ind\": \"Indonesia\", \"jpn\": \"Japan\", \"por\": \"Portugal\", \"rus\": \"Russian Federation\", \"spa\": \"Spain\", \"urd\": \"Pakistan\"}"
   ]
  },
  {
   "cell_type": "code",
   "execution_count": null,
   "metadata": {},
   "outputs": [],
   "source": [
    "speaker_types = [\"total\", \"l1\", \"l2\"]\n",
    "\n",
    "finished_dfs = []\n",
    "for speaker_type in speaker_types:\n",
    "    speakers_df = pd.read_csv(f'../data/cleaned_{speaker_type}_speakers.csv')\n",
    "\n",
    "    # Set country and year as index\n",
    "    speakers_df.set_index(['Year', \"Country\"], inplace=True)\n",
    "\n",
    "    # import manual total speakers data  \n",
    "    manual_speakers = pd.read_csv(f'../misc_data/manual_{speaker_type}_speakers.csv')\n",
    "    \n",
    "    manual_speakers.set_index('Language', inplace=True)\n",
    "    # Cast col names to ints\n",
    "\n",
    "    # Map the manual_speakers index to language codes\n",
    "    manual_speakers.index = manual_speakers.index.map(name_to_lang_code)\n",
    "    # print(manual_speakers)\n",
    "\n",
    "    years = speakers_df.index.get_level_values(0).unique()\n",
    "\n",
    "    for year in years:\n",
    "        # fetch the global number of speakers per language from manual_speakers\n",
    "        manual_speakers_year = manual_speakers[str(year)]\n",
    "        # print(manual_speakers_year)\n",
    "\n",
    "        # aggregate the global speakers per language from speakers_df \n",
    "        speakers_df_year = speakers_df.loc[year]\n",
    "        agg_speakers_df_year = speakers_df_year.sum(axis=0)\n",
    "        # print(agg_speakers_df_year)\n",
    "\n",
    "        # compute the difference to find missing data\n",
    "        diff = manual_speakers_year - agg_speakers_df_year \n",
    "        # print(diff)\n",
    "\n",
    "        # if we're missing data entirely from that year in the country data, don't fill anything in, otherwise fill in the missing data for the right country\n",
    "\n",
    "        languages = diff.index[diff.index.notnull()]\n",
    "\n",
    "        for lang in languages:\n",
    "            if agg_speakers_df_year[lang] == 0:\n",
    "                print(year)\n",
    "                print(\"agg_speakers_df_year[lang]: \", agg_speakers_df_year[lang])\n",
    "                continue # we're missing all the data, don't fill anything in\n",
    "            else:\n",
    "                # fill in the missing data for the right country\n",
    "                speakers_df.loc[year, lang_code_to_country[lang]][lang] = diff[lang]\n",
    "                # print(\"diff[lang]: \", diff[lang])\n",
    "                # print(\"speakers_df.loc[year, lang_code_to_country[lang]][lang]: \", speakers_df.loc[year, lang_code_to_country[lang]][lang])\n",
    "    finished_dfs.append(speakers_df)\n",
    "\n"
   ]
  },
  {
   "cell_type": "code",
   "execution_count": null,
   "metadata": {},
   "outputs": [],
   "source": [
    "total_df = finished_dfs[0]\n",
    "l1_df = finished_dfs[1]\n",
    "l2_df = finished_dfs[2]"
   ]
  },
  {
   "cell_type": "code",
   "execution_count": null,
   "metadata": {},
   "outputs": [],
   "source": [
    "total_df = total_df.reorder_levels([\"Country\", \"Year\"])\n",
    "l1_df = l1_df.reorder_levels([\"Country\", \"Year\"])\n",
    "l2_df = l2_df.reorder_levels([\"Country\", \"Year\"])\n",
    "\n",
    "total_df.loc[[\"Portugal\",  \"Brazil\"]]"
   ]
  },
  {
   "cell_type": "code",
   "execution_count": null,
   "metadata": {},
   "outputs": [],
   "source": [
    "# bring in population data to verify that we're not overestimating\n",
    "\n",
    "# this code copied from `streamlined_ratio_model.ipynb`\n",
    "pop_df = pd.read_csv('../raw_data/World_Population_Data.csv', header=2)\n",
    "pop_df = pop_df.drop(columns = [\"Indicator Name\", \"Indicator Code\", \"Country Code\", \"Unnamed: 67\"])\n",
    "pop_df = pop_df.set_index(\"Country Name\")\n",
    "# rename index to Country\n",
    "pop_df.index.names = [\"Country\"]\n",
    "\n",
    "pop_df.columns = pop_df.columns.astype(int)\n",
    "\n",
    "pop_to_lang_country_map = {\"Bahamas, The\": \"Bahamas\", \"Brunei Darussalam\": \"Brunei\", \"Cabo Verde\": \"Cape Verde Islands\", \"Hong Kong SAR, China\": \"Hong Kong\", \"Macao SAR, China\": \"Macao\", \"Congo, Rep.\": \"Congo\", \"Congo, Dem. Rep.\": \"Democratic Republic of the Congo\", \"Cote d'Ivoire\": \"Côte d’Ivoire\", \"Timor-Leste\": \"East Timor\", \"Egypt, Arab Rep.\": \"Egypt\", \"Gambia, The\": \"Gambia\", \"Iran, Islamic Rep.\": \"Iran\", \"Kyrgyz Republic\": \"Kyrgyzstan\", \"Lao PDR\": \"Laos\", \"West Bank and Gaza\": \"Palestine\", 'St. Kitts and Nevis': \"Saint Kitts and Nevis\", \"St. Lucia\": \"Saint Lucia\", \"St. Vincent and the Grenadines\": \"Saint Vincent and the Grenadines\", \"St. Martin (French part)\": \"Saint Martin\", \"Sint Maarten (Dutch part)\": \"Sint Maarten\", \"Slovak Republic\": \"Slovakia\", \"Korea, Rep.\": \"South Korea\", \"Syrian Arab Republic\": \"Syria\", \"Sao Tome and Principe\": \"São Tomé e Príncipe\", \"Turkiye\": \"Turkey\", \"Virgin Islands (U.S.)\": \"U.S. Virgin Islands\", \"Venezuela, RB\": \"Venezuela\", \"Viet Nam\": \"Vietnam\", \"Yemen, Rep.\": \"Yemen\"}\n",
    "\n",
    "# not included\n",
    "# Anguilla, British Indian Ocean Territory, Caribbean Netherlands, Taiwan, Christmas Island, Cocos (Keeling) Islands, Cook Islands, Falkland Islands, French Guiana, Guadaloupe, Guernsey, Martinique, Mayotte, Niue, Norfolk Island, Réunion, Saint Barthélemy, Saint Helena, Saint Helena, Ascension, and Tristan da Cunha, Saint Pierre and Miquelon, Taiwan, Tokelau, Wallis and Futuna, Western Sahara\n",
    "\n",
    "# ISSUES - fixed in the original Ethnologue processing `data_cleaning_notebooks/extract_ethnologue_data.ipynb`\n",
    "# Czechia, it changed named and messed up the data\n",
    "# Eswatini also changed name!!\n",
    "# Vietnam changed from Viet Nam to Vietnam\n",
    "\n",
    "# Rename the countries in the population df to match the language df\n",
    "pop_df.index = pop_df.index.map(lambda x: pop_to_lang_country_map[x] if x in pop_to_lang_country_map else x)\n",
    "\n",
    "\n",
    "pop_df\n",
    "\n",
    "stacked_pop_df = pop_df.stack()\n",
    "stacked_pop_df.index.names = [\"Country\", \"Year\"]\n",
    "stacked_pop_df\n",
    "\n",
    "total_df = total_df.assign(Population=stacked_pop_df)\n",
    "l1_df = l1_df.assign(Population=stacked_pop_df)\n",
    "l2_df = l2_df.assign(Population=stacked_pop_df)\n",
    "\n",
    "total_df"
   ]
  },
  {
   "cell_type": "code",
   "execution_count": null,
   "metadata": {},
   "outputs": [],
   "source": [
    "# print out all the entries where the population is less than the number of speakers\n",
    "\n",
    "for df, name in zip([total_df, l1_df, l2_df], [\"total\", \"l1\", \"l2\"]):\n",
    "    print(name)\n",
    "\n",
    "    languages = df.columns[:-1] # don't include the population column\n",
    "\n",
    "    for index, row in df.iterrows():\n",
    "        for lang in languages:\n",
    "            if row[lang] > row[\"Population\"]:\n",
    "                print(index, lang, row[lang], row[\"Population\"])"
   ]
  }
 ],
 "metadata": {
  "kernelspec": {
   "display_name": "math",
   "language": "python",
   "name": "python3"
  },
  "language_info": {
   "codemirror_mode": {
    "name": "ipython",
    "version": 3
   },
   "file_extension": ".py",
   "mimetype": "text/x-python",
   "name": "python",
   "nbconvert_exporter": "python",
   "pygments_lexer": "ipython3"
  }
 },
 "nbformat": 4,
 "nbformat_minor": 2
}
