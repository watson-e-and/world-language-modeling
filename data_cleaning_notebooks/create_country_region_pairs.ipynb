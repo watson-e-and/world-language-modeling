{
 "cells": [
  {
   "cell_type": "markdown",
   "metadata": {},
   "source": [
    "# Create Country-Region pairings\n",
    "\n",
    "To use in other scripts"
   ]
  },
  {
   "cell_type": "code",
   "execution_count": null,
   "metadata": {},
   "outputs": [],
   "source": [
    "# Rename the filepath if you don't want to overwrite an existing one\n",
    "import os\n",
    "\n",
    "region_data_filepath = os.path.join(\"..\", \"data\", \"regions.csv\")\n",
    "# make data directory if it doesn't already exist\n",
    "if not os.path.exists(os.path.join(\"..\", \"data\")):\n",
    "    os.makedirs(os.path.join(\"..\", \"data\")) \n",
    "\n",
    "print(region_data_filepath)"
   ]
  },
  {
   "cell_type": "markdown",
   "metadata": {},
   "source": []
  },
  {
   "cell_type": "code",
   "execution_count": null,
   "metadata": {},
   "outputs": [],
   "source": [
    "import pandas as pd"
   ]
  },
  {
   "cell_type": "code",
   "execution_count": null,
   "metadata": {},
   "outputs": [],
   "source": [
    "#Asia\n",
    "populations_central_asia= [\"Kazakhstan\",\"Kyrgyz Republic\", \"Tajikistan\", \"Turkmenistan\",\"Uzbekistan\"]\n",
    "populations_eastern_asia= [\"Macao SAR, China\", \"Hong Kong SAR, China\", \"China\", \"Mongolia\", \"Japan\", \"Korea, Dem. People's Rep.\", \"Korea, Rep.\"]\n",
    "populations_western_asia= [\"Armenia\", \"Iraq\", \"Oman\", \"Syrian Arab Republic\", \"Azerbaijan\", \"Israel\",\n",
    "\"Turkiye\", \"Bahrain\", \"Jordan\", \"Qatar\", \"United Arab Emirates\", \"Cyprus\", \"Kuwait\", \"Saudi Arabia\", \"Yemen, Rep.\", \"Georgia\", \"Lebanon\"]\n",
    "populations_southeastern_asia= [\"Brunei Darussalam\", \"Cambodia\", \"Timor-Leste\", \"Indonesia\", \"Myanmar\", \"Philippines\", \"Singapore\", \"Thailand\", \"Lao PDR\", \"Viet Nam\", \"Malaysia\"]\n",
    "populations_southern_asia= [\"Afghanistan\", \"Maldives\", \"Pakistan\", \"Bangladesh\", \"India\", \"Nepal\", \"Sri Lanka\", \"Bhutan\", \"Iran, Islamic Rep.\"]\n",
    "\n",
    "\n",
    "##Ethnologue includes Palestine and \"British Indian Ocean Territory\" which World Bank does not recognize"
   ]
  },
  {
   "cell_type": "code",
   "execution_count": null,
   "metadata": {},
   "outputs": [],
   "source": [
    "#Europe\n",
    "populations_eastern_europe= [\"Belarus\", \"Hungary\", \"Romania\", \"Slovak Republic\", \"Bulgaria\", \"Moldova\", \"Russian Federation\", \"Ukraine\", \"Czechia\", \"Poland\"]\n",
    "populations_northern_europe= [\"Finland\", \"Isle of Man\", \"Norway\", \"Denmark\", \"Sweden\", \"Estonia\", \"Iceland\", \"Latvia\", \"United Kingdom\", \"Faroe Islands\", \"Ireland\", \"Lithuania\"]\n",
    "populations_western_europe= [\"Austria\", \"Germany\", \"Luxembourg\", \"Netherlands\", \"Belgium\", \"Liechtenstein\", \"Monaco\", \"Switzerland\", \"France\"]\n",
    "populations_southern_europe= [\"Albania\", \"Gibraltar\", \"Montenegro\", \"Serbia\", \"Andorra\", \"Greece\", \"North Macedonia\", \"Slovenia\", \"Bosnia and Herzegovina\", \"Italy\", \"Portugal\", \"Spain\", \"Croatia\", \"Malta\", \"San Marino\"]\n",
    "\n",
    "#Ethnologue includes Guernsey, Jersey, Vatican City"
   ]
  },
  {
   "cell_type": "code",
   "execution_count": null,
   "metadata": {},
   "outputs": [],
   "source": [
    "#Africa\n",
    "populations_eastern_africa= [\"Burundi\",\"Kenya\", \"Mozambique\", \"South Sudan\", \"Comoros\", \"Madagascar\", \"Tanzania\", \"Djibouti\", \"Malawi\", \"Rwanda\", \"Uganda\", \"Eritrea\", \"Mauritius\", \"Seychelles\", \"Zambia\", \"Ethiopia\", \"Somalia\", \"Zimbabwe\"]\n",
    "populations_northern_africa= [\"Algeria\", \"Libya\", \"Sudan\", \"Egypt, Arab Rep.\", \"Morocco\", \"Tunisia\"]\n",
    "populations_southern_africa= [\"Botswana\", \"Lesotho\", \"Namibia\", \"South Africa\", \"Eswatini\"]\n",
    "populations_western_africa= [\"Benin\", \"Ghana\", \"Mali\", \"Burkina Faso\", \"Guinea\", \"Mauritania\", \"Senegal\", \"Cabo Verde\" , \"Guinea-Bissau\", \"Niger\", \"Sierra Leone\", \"Cote d'Ivoire\", \"Liberia\", \"Nigeria\", \"Togo\", \"Gambia, The\"]\n",
    "populations_middle_africa= [\"Angola\", \"Cameroon\", \"Central African Republic\", \"Chad\", \"Congo, Rep.\", \"Congo, Dem. Rep.\", \"Equatorial Guinea\", \"Gabon\", \"Sao Tome and Principe\"]\n",
    "\n",
    "\n",
    "#Ethnologue includes Réunion, Mayotte, Western Sahara, Saint Helena"
   ]
  },
  {
   "cell_type": "code",
   "execution_count": null,
   "metadata": {},
   "outputs": [],
   "source": [
    "# Americas\n",
    "populations_northern_america = [\"Bermuda\", \"Greenland\", \"Canada\", \"Saint Pierre and Miquelon\", \"United States\"]\n",
    "populations_central_america = [\"Belize\", \"Guatemala\", \"Nicaragua\", \"Costa Rica\", \"Honduras\", \"Panama\", \"El Salvador\", \"Mexico\"]\n",
    "populations_caribbean = [\"Anguilla\", \"Antigua and Barbuda\", \"Aruba\", \"Bahamas\", \"Barbados\", \"British Virgin Islands\", \"Caribbean Netherlands\", \"Cayman Islands\", \"Cuba\", \"Curacao\", \"Dominica\", \"Dominican Republic\", \"Grenada\", \"Guadeloupe\", \"Haiti\", \"Jamaica\", \"Martinique\", \"Montserrat\", \"Puerto Rico\", \"Saint Bartélemy\", \"Saint Kitts and Nevis\", \"Saint Lucia\", \"Saint Martin\", \"Saint Vincent and the Grenadines\", \"Sint Maarten\", \"Trinidad and Tobago\", \"Turks and Caicos Islands\", \"Virgin Islands (U.S.)\"]\n",
    "populations_south_america = [\"Argentina\", \"Chile\", \"Paraguay\", \"Suriname\", \"Bolivia\", \"Colombia\", \"Peru\", \"Uruguay\", \"Brazil\", \"Ecuador\", \"Falkland Islands\", \"French Guiana\", \"Guyana\", \"Venezuela, RB\"]"
   ]
  },
  {
   "cell_type": "code",
   "execution_count": null,
   "metadata": {},
   "outputs": [],
   "source": [
    "# Oceania\n",
    "populations_australia_and_new_zealand = [\"Australia\", \"New Zealand\", \"Norfolk Island\", \"Christmas Island\", \"Cocos (Keeling) Islands\"]\n",
    "populations_melanesia = [\"Fiji\", \"New Caledonia\", \"Papua New Guinea\", \"Solomon Islands\", \"Vanuatu\"]\n",
    "populations_micronesia = [\"Guam\", \"Kiribati\", \"Marshall Islands\", \"Micronesia, Fed. Sts.\", \"Nauru\", \"Northern Mariana Islands\", \"Palau\"]\n",
    "populations_polynesia = [\"American Samoa\", \"Cook Islands\", \"French Polynesia\", \"Niue\", \"Pitcairn Islands\", \"Samoa\", \"Tokelau\", \"Tonga\", \"Tuvalu\", \"Wallis and Futuna\"]"
   ]
  },
  {
   "cell_type": "code",
   "execution_count": null,
   "metadata": {},
   "outputs": [],
   "source": [
    "# extract regions into a csv\n",
    "\n",
    "region_dict = {}\n",
    "\n",
    "for country in populations_central_asia:\n",
    "    region_dict[country] = \"Central Asia\"\n",
    "for country in populations_eastern_asia:\n",
    "    region_dict[country] = \"Eastern Asia\"\n",
    "for country in populations_western_asia:\n",
    "    region_dict[country] = \"Western Asia\"\n",
    "for country in populations_southeastern_asia:\n",
    "    region_dict[country] = \"Southeastern Asia\"\n",
    "for country in populations_southern_asia:\n",
    "    region_dict[country] = \"Southern Asia\"\n",
    "for country in populations_eastern_europe:\n",
    "    region_dict[country] = \"Eastern Europe\"\n",
    "for country in populations_northern_europe:\n",
    "    region_dict[country] = \"Northern Europe\"\n",
    "for country in populations_western_europe:\n",
    "    region_dict[country] = \"Western Europe\"\n",
    "for country in populations_southern_europe:\n",
    "    region_dict[country] = \"Southern Europe\"\n",
    "for country in populations_eastern_africa:\n",
    "    region_dict[country] = \"Eastern Africa\"\n",
    "for country in populations_northern_africa:\n",
    "    region_dict[country] = \"Northern Africa\"\n",
    "for country in populations_southern_africa:\n",
    "    region_dict[country] = \"Southern Africa\"\n",
    "for country in populations_western_africa:\n",
    "    region_dict[country] = \"Western Africa\"\n",
    "for country in populations_middle_africa:\n",
    "    region_dict[country] = \"Middle Africa\"\n",
    "for country in populations_northern_america:\n",
    "    region_dict[country] = \"Northern America\"\n",
    "for country in populations_central_america:\n",
    "    region_dict[country] = \"Central America\"\n",
    "for country in populations_caribbean:\n",
    "    region_dict[country] = \"Caribbean\"\n",
    "for country in populations_south_america:\n",
    "    region_dict[country] = \"South America\"\n",
    "for country in populations_australia_and_new_zealand:\n",
    "    region_dict[country] = \"Australia and New Zealand\"\n",
    "for country in populations_melanesia:\n",
    "    region_dict[country] = \"Melanesia\"\n",
    "for country in populations_micronesia:\n",
    "    region_dict[country] = \"Micronesia\"\n",
    "for country in populations_polynesia:\n",
    "    region_dict[country] = \"Polynesia\"\n",
    "    \n",
    "# create a dataframe with countries as index and region as column\n",
    "df_region = pd.DataFrame.from_dict(region_dict, orient='index', columns=['Region'])\n",
    "df_region.index.name = 'Country'\n",
    "df_region"
   ]
  },
  {
   "cell_type": "code",
   "execution_count": null,
   "metadata": {},
   "outputs": [],
   "source": [
    "df_region.to_csv(region_data_filepath)"
   ]
  }
 ],
 "metadata": {
  "kernelspec": {
   "display_name": "math",
   "language": "python",
   "name": "python3"
  },
  "language_info": {
   "codemirror_mode": {
    "name": "ipython",
    "version": 3
   },
   "file_extension": ".py",
   "mimetype": "text/x-python",
   "name": "python",
   "nbconvert_exporter": "python",
   "pygments_lexer": "ipython3"
  }
 },
 "nbformat": 4,
 "nbformat_minor": 2
}
