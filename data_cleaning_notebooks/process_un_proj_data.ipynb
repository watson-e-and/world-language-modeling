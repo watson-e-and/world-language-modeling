{
 "cells": [
  {
   "cell_type": "markdown",
   "metadata": {},
   "source": [
    "# Process the UN medium-fertility projection dataset\n",
    "This notebook was used to extract the data I want from the UN projections. I downloaded the excel sheet from [https://population.un.org/wpp/Download/Standard/MostUsed/], then exported the second sheet as a csv. This notebook does the remainder of the processing to spit out the file `population_projections.csv`"
   ]
  },
  {
   "cell_type": "code",
   "execution_count": null,
   "metadata": {},
   "outputs": [],
   "source": [
    "import pandas as pd\n",
    "import numpy as np"
   ]
  },
  {
   "cell_type": "code",
   "execution_count": null,
   "metadata": {},
   "outputs": [],
   "source": [
    "df = pd.read_csv('un_medium_projections_raw.csv', skiprows=[0,1,2,3,4,5,6,7,8,9,10,11,12,13,14,15], index_col=0, low_memory=False)\n",
    "df"
   ]
  },
  {
   "cell_type": "code",
   "execution_count": null,
   "metadata": {},
   "outputs": [],
   "source": [
    "df.columns"
   ]
  },
  {
   "cell_type": "code",
   "execution_count": null,
   "metadata": {},
   "outputs": [],
   "source": [
    "df_filtered = df[[\"Region, subregion, country or area *\", \"Type\", \"Year\", \"Total Population, as of 1 January (thousands)\"]]\n",
    "df_filtered"
   ]
  },
  {
   "cell_type": "code",
   "execution_count": null,
   "metadata": {},
   "outputs": [],
   "source": [
    "df_filtered[\"Type\"].value_counts()"
   ]
  },
  {
   "cell_type": "code",
   "execution_count": null,
   "metadata": {},
   "outputs": [],
   "source": [
    "# only keep Country/Area\n",
    "df_filtered = df_filtered[df_filtered[\"Type\"] == \"Country/Area\"]\n",
    "df_filtered"
   ]
  },
  {
   "cell_type": "code",
   "execution_count": null,
   "metadata": {},
   "outputs": [],
   "source": [
    "df_filtered = df_filtered.drop(columns=[\"Type\"])\n",
    "df_filtered"
   ]
  },
  {
   "cell_type": "code",
   "execution_count": null,
   "metadata": {},
   "outputs": [],
   "source": [
    "# Cast Year to int\n",
    "df_filtered[\"Year\"] = df_filtered[\"Year\"].astype(int)\n",
    "\n",
    "# Turn the country, year columns into a multiindex\n",
    "df_filtered = df_filtered.set_index([\"Region, subregion, country or area *\", \"Year\"])\n",
    "df_filtered.index.names = [\"Country\", \"Year\"]\n",
    "\n",
    "# Rename the population column\n",
    "df_filtered = df_filtered.rename(columns={\"Total Population, as of 1 January (thousands)\": \"Population\"})\n"
   ]
  },
  {
   "cell_type": "code",
   "execution_count": null,
   "metadata": {},
   "outputs": [],
   "source": [
    "\n",
    "# Strip whitespace from the population column\n",
    "df_filtered[\"Population\"] = df_filtered[\"Population\"].str.strip()\n",
    "\n",
    "# Remove spaces within numbers in the population column\n",
    "df_filtered[\"Population\"] = df_filtered[\"Population\"].str.replace(\" \", \"\")\n",
    "\n",
    "# Parse the population column as an int\n",
    "df_filtered[\"Population\"] = df_filtered[\"Population\"].astype(int)\n",
    "\n",
    "df_filtered"
   ]
  },
  {
   "cell_type": "code",
   "execution_count": null,
   "metadata": {},
   "outputs": [],
   "source": [
    "# Save the cleaned data\n",
    "df_filtered.to_csv(\"population_projections.csv\")"
   ]
  }
 ],
 "metadata": {
  "kernelspec": {
   "display_name": "math",
   "language": "python",
   "name": "python3"
  },
  "language_info": {
   "codemirror_mode": {
    "name": "ipython",
    "version": 3
   },
   "file_extension": ".py",
   "mimetype": "text/x-python",
   "name": "python",
   "nbconvert_exporter": "python",
   "pygments_lexer": "ipython3"
  }
 },
 "nbformat": 4,
 "nbformat_minor": 2
}
