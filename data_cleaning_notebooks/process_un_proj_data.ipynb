{
 "cells": [
  {
   "cell_type": "markdown",
   "metadata": {},
   "source": [
    "# Process the UN medium-fertility projection dataset\n",
    "This notebook was used to extract the data I want from the UN projections. I downloaded the excel sheet from [https://population.un.org/wpp/Download/Standard/MostUsed/], then exported the second sheet as a csv. This notebook does the remainder of the processing to spit out the file `population_projections.csv`"
   ]
  },
  {
   "cell_type": "code",
   "execution_count": null,
   "metadata": {},
   "outputs": [],
   "source": [
    "import pandas as pd\n",
    "import numpy as np"
   ]
  },
  {
   "cell_type": "code",
   "execution_count": null,
   "metadata": {},
   "outputs": [],
   "source": [
    "import os\n",
    "\n",
    "output_filepath = os.path.join(\"..\", \"data\", \"population_projections.csv\")\n",
    "\n",
    "# make sure the output directory exists\n",
    "output_dir = os.path.dirname(output_filepath)\n",
    "if not os.path.exists(output_dir):\n",
    "    os.makedirs(output_dir)\n",
    "\n",
    "raw_projections_filepath = os.path.join(\"..\", \"raw_data\", \"un_medium_projections_raw.csv\")\n",
    "\n",
    "df = pd.read_csv(raw_projections_filepath, skiprows=[0,1,2,3,4,5,6,7,8,9,10,11,12,13,14,15], index_col=0, low_memory=False)\n",
    "df"
   ]
  },
  {
   "cell_type": "code",
   "execution_count": null,
   "metadata": {},
   "outputs": [],
   "source": [
    "df.columns"
   ]
  },
  {
   "cell_type": "code",
   "execution_count": null,
   "metadata": {},
   "outputs": [],
   "source": [
    "df_filtered = df[[\"Region, subregion, country or area *\", \"Type\", \"Year\", \"Total Population, as of 1 January (thousands)\"]]\n",
    "df_filtered"
   ]
  },
  {
   "cell_type": "code",
   "execution_count": null,
   "metadata": {},
   "outputs": [],
   "source": [
    "df_filtered[\"Type\"].value_counts()"
   ]
  },
  {
   "cell_type": "code",
   "execution_count": null,
   "metadata": {},
   "outputs": [],
   "source": [
    "# only keep Country/Area\n",
    "df_filtered = df_filtered[df_filtered[\"Type\"] == \"Country/Area\"]\n",
    "df_filtered"
   ]
  },
  {
   "cell_type": "code",
   "execution_count": null,
   "metadata": {},
   "outputs": [],
   "source": [
    "df_filtered = df_filtered.drop(columns=[\"Type\"])\n",
    "df_filtered"
   ]
  },
  {
   "cell_type": "code",
   "execution_count": null,
   "metadata": {},
   "outputs": [],
   "source": [
    "# Cast Year to int\n",
    "df_filtered[\"Year\"] = df_filtered[\"Year\"].astype(int)\n",
    "\n",
    "# Turn the country, year columns into a multiindex\n",
    "df_filtered = df_filtered.set_index([\"Region, subregion, country or area *\", \"Year\"])\n",
    "df_filtered.index.names = [\"Country\", \"Year\"]\n",
    "\n",
    "# Rename the population column\n",
    "df_filtered = df_filtered.rename(columns={\"Total Population, as of 1 January (thousands)\": \"Population\"})\n"
   ]
  },
  {
   "cell_type": "code",
   "execution_count": null,
   "metadata": {},
   "outputs": [],
   "source": [
    "\n",
    "# Strip whitespace from the population column\n",
    "df_filtered[\"Population\"] = df_filtered[\"Population\"].str.strip()\n",
    "\n",
    "# Remove spaces within numbers in the population column\n",
    "df_filtered[\"Population\"] = df_filtered[\"Population\"].str.replace(\" \", \"\")\n",
    "\n",
    "# Parse the population column as an int\n",
    "df_filtered[\"Population\"] = df_filtered[\"Population\"].astype(int)\n",
    "\n",
    "# Multiply the population column by 1000 to get the actual population\n",
    "df_filtered[\"Population\"] = df_filtered[\"Population\"] * 1000\n",
    "\n",
    "df_filtered"
   ]
  },
  {
   "cell_type": "code",
   "execution_count": null,
   "metadata": {},
   "outputs": [],
   "source": [
    "# Change a few country names to match ethnologue\n",
    "pop_proj_rename_map = {\"Bolivia (Plurinational State of)\": \"Bolivia\", \"Brunei Darussalam\": \"Brunei\", \"Cabo Verde\": \"Cape Verde Islands\", \"China, Hong Kong SAR\": \"Hong Kong\", \"China, Macao SAR\": \"Macao\", \"Curaçao\": \"Curacao\", \"Côte d'Ivoire\": \"Côte d’Ivoire\", \"Timor-Leste\": \"East Timor\", \"Iran (Islamic Republic of)\": \"Iran\", \"Lao People's Democratic Republic\": \"Laos\", \"Republic of Moldova\": \"Moldova\", \"State of Palestine\": \"Palestine\", \"Saint Martin (French part)\": \"Saint Martin\", \"Sint Maarten (Dutch part)\": \"Sint Maarten\", \"Republic of Korea\": \"South Korea\", \"Syrian Arab Republic\": \"Syria\", \"Sao Tome and Principe\": \"São Tomé e Príncipe\", \"United Republic of Tanzania\": \"Tanzania\", \"Türkiye\": \"Turkey\", \"United States Virgin Islands\": \"U.S. Virgin Islands\", \"United States of America\": \"United States\", \"Venezuela (Bolivarian Republic of)\": \"Venezuela\", \"Viet Nam\": \"Vietnam\", \"China, Taiwan Province of China\": \"Taiwan\", \"Wallis and Futuna Islands\": \"Wallis and Futuna\"}\n",
    "\n",
    "df_filtered.index = df_filtered.index.map(lambda x: (pop_proj_rename_map[x[0]],x[1]) if x[0] in pop_proj_rename_map else x)\n",
    "\n",
    "df_filtered.loc[\"Taiwan\"]"
   ]
  },
  {
   "cell_type": "code",
   "execution_count": null,
   "metadata": {},
   "outputs": [],
   "source": [
    "# Save the cleaned data\n",
    "df_filtered.to_csv(output_filepath)"
   ]
  }
 ],
 "metadata": {
  "kernelspec": {
   "display_name": "math",
   "language": "python",
   "name": "python3"
  },
  "language_info": {
   "codemirror_mode": {
    "name": "ipython",
    "version": 3
   },
   "file_extension": ".py",
   "mimetype": "text/x-python",
   "name": "python",
   "nbconvert_exporter": "python",
   "pygments_lexer": "ipython3"
  }
 },
 "nbformat": 4,
 "nbformat_minor": 2
}
