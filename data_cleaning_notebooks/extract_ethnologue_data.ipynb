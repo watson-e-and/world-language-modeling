{
 "cells": [
  {
   "cell_type": "markdown",
   "metadata": {},
   "source": [
    "# Extract Ethnologue data\n",
    "\n",
    "If we ever scrape again and get more data, use this script to recreate the total speakers, L1 and L2 data files "
   ]
  },
  {
   "cell_type": "code",
   "execution_count": null,
   "metadata": {},
   "outputs": [],
   "source": [
    "# Filepaths\n",
    "\n",
    "import os\n",
    "\n",
    "# rename these filepaths if you don't want to overwrite the original files\n",
    "total_speakers_filepath = os.path.join(\"..\", \"data\", \"cleaned_total_speakers.csv\")\n",
    "l1_speakers_filepath = os.path.join(\"..\", \"data\", \"cleaned_l1_speakers.csv\")\n",
    "l2_speakers_filepath = os.path.join(\"..\", \"data\", \"cleaned_l2_speakers.csv\")\n",
    "\n",
    "print(total_speakers_filepath)"
   ]
  },
  {
   "cell_type": "code",
   "execution_count": null,
   "metadata": {},
   "outputs": [],
   "source": [
    "import pandas as pd\n",
    "import numpy as np"
   ]
  },
  {
   "cell_type": "code",
   "execution_count": null,
   "metadata": {},
   "outputs": [],
   "source": [
    "# import data\n",
    "lang_df = pd.read_table(\"../populations.tsv\", sep=\"\\t\", header=None)\n",
    "\n",
    "# rename columns\n",
    "lang_df.rename(columns={0: \"Language\", 1: \"Country\", 2:16, 3:17, 4:18, 5:19, 6:20, 7:21, 8:22, 9:23, 10:25, 11:\"drop\"}, inplace=True)\n",
    "\n",
    "# Strip whitespace from the Language and Country columns\n",
    "lang_df[\"Language\"] = lang_df[\"Language\"].str.strip()\n",
    "lang_df[\"Country\"] = lang_df[\"Country\"].str.strip()\n",
    "\n",
    "# set the index to the first two columns\n",
    "lang_df.set_index([\"Language\", \"Country\"], inplace=True)\n",
    "\n",
    "\n",
    "lang_df"
   ]
  },
  {
   "cell_type": "markdown",
   "metadata": {},
   "source": [
    "## Total Speakers"
   ]
  },
  {
   "cell_type": "code",
   "execution_count": null,
   "metadata": {},
   "outputs": [],
   "source": [
    "# Grab just the total number of speakers (ie the first number in the tuple)\n",
    "\n",
    "def extract_total_speakers(cell):\n",
    "\n",
    "    if cell == 0:\n",
    "        return 0\n",
    "    \n",
    "    # try to check if the cell is nan\n",
    "    try:\n",
    "        if np.isnan(cell):\n",
    "            return 0\n",
    "    except:\n",
    "        pass\n",
    "\n",
    "    eval_cell = eval(cell)\n",
    "    if type(eval_cell) == tuple:\n",
    "        return eval_cell[0]\n",
    "    else:\n",
    "        return eval_cell\n",
    "    \n",
    "\n",
    "# Create a new df where each cell has just the total number of speakers\n",
    "total_speakers_df = lang_df.applymap(extract_total_speakers)\n",
    "# drop the column labeled \"drop\"\n",
    "total_speakers_df.drop(\"drop\", axis=1, inplace=True)\n",
    "total_speakers_df"
   ]
  },
  {
   "cell_type": "code",
   "execution_count": null,
   "metadata": {},
   "outputs": [],
   "source": [
    "edition_to_year= {13:1996, 14: 2000, 15:2005, 16:2009, 17:2014, 18:2015, 19:2016, 20:2017, 21:2018, 22:2019, 23:2020, 24:2021, 25:2022}\n",
    "\n",
    "\n",
    "\n",
    "total_speakers_df= total_speakers_df.rename(columns=edition_to_year)\n",
    "total_speakers_df= total_speakers_df.stack()\n",
    "total_speakers_df= total_speakers_df.unstack(\"Language\") \n",
    "\n",
    "# name the second index \"Year\"\n",
    "total_speakers_df.index.names = [\"Country\", \"Year\"]\n",
    "\n",
    "total_speakers_df"
   ]
  },
  {
   "cell_type": "markdown",
   "metadata": {},
   "source": [
    "## L1"
   ]
  },
  {
   "cell_type": "code",
   "execution_count": null,
   "metadata": {},
   "outputs": [],
   "source": [
    "# Grab just the L1 number of speakers (ie the second number in the tuple)\n",
    "\n",
    "def extract_L1_speakers(cell):\n",
    "\n",
    "    if cell == 0:\n",
    "        return 0\n",
    "    \n",
    "    # try to check if the cell is nan\n",
    "    try:\n",
    "        if np.isnan(cell):\n",
    "            return 0\n",
    "    except:\n",
    "        pass\n",
    "\n",
    "    eval_cell = eval(cell)\n",
    "    if type(eval_cell) == tuple:\n",
    "        return eval_cell[1]\n",
    "    else:\n",
    "        return 0\n",
    "    \n",
    "\n",
    "# Create a new df where each cell has just the total number of speakers\n",
    "l1_speakers_df = lang_df.applymap(extract_L1_speakers)\n",
    "# drop the column labeled \"drop\"\n",
    "l1_speakers_df.drop(\"drop\", axis=1, inplace=True)\n",
    "l1_speakers_df"
   ]
  },
  {
   "cell_type": "code",
   "execution_count": null,
   "metadata": {},
   "outputs": [],
   "source": [
    "l1_speakers_df= l1_speakers_df.rename(columns=edition_to_year)\n",
    "l1_speakers_df= l1_speakers_df.stack()\n",
    "l1_speakers_df= l1_speakers_df.unstack(\"Language\") \n",
    "\n",
    "# name the second index \"Year\"\n",
    "l1_speakers_df.index.names = [\"Country\", \"Year\"]\n",
    "\n",
    "l1_speakers_df"
   ]
  },
  {
   "cell_type": "markdown",
   "metadata": {},
   "source": [
    "## L2"
   ]
  },
  {
   "cell_type": "code",
   "execution_count": null,
   "metadata": {},
   "outputs": [],
   "source": [
    "# Grab just the L2 number of speakers (ie the second number in the tuple)\n",
    "\n",
    "def extract_L2_speakers(cell):\n",
    "\n",
    "    if cell == 0:\n",
    "        return 0\n",
    "    \n",
    "    # try to check if the cell is nan\n",
    "    try:\n",
    "        if np.isnan(cell):\n",
    "            return 0\n",
    "    except:\n",
    "        pass\n",
    "\n",
    "    eval_cell = eval(cell)\n",
    "    if type(eval_cell) == tuple:\n",
    "        return eval_cell[2]\n",
    "    else:\n",
    "        return 0\n",
    "    \n",
    "\n",
    "# Create a new df where each cell has just the total number of speakers\n",
    "l2_speakers_df = lang_df.applymap(extract_L2_speakers)\n",
    "# drop the column labeled \"drop\"\n",
    "l2_speakers_df.drop(\"drop\", axis=1, inplace=True)\n",
    "l2_speakers_df"
   ]
  },
  {
   "cell_type": "code",
   "execution_count": null,
   "metadata": {},
   "outputs": [],
   "source": [
    "l2_speakers_df= l2_speakers_df.rename(columns=edition_to_year)\n",
    "l2_speakers_df= l2_speakers_df.stack()\n",
    "l2_speakers_df= l2_speakers_df.unstack(\"Language\") \n",
    "\n",
    "# name the second index \"Year\"\n",
    "l2_speakers_df.index.names = [\"Country\", \"Year\"]\n",
    "\n",
    "l2_speakers_df"
   ]
  },
  {
   "cell_type": "markdown",
   "metadata": {},
   "source": [
    "# Export to csv files"
   ]
  },
  {
   "cell_type": "code",
   "execution_count": null,
   "metadata": {},
   "outputs": [],
   "source": [
    "total_speakers_df.to_csv(total_speakers_filepath)\n",
    "l1_speakers_df.to_csv(l1_speakers_filepath)\n",
    "l2_speakers_df.to_csv(l2_speakers_filepath)"
   ]
  }
 ],
 "metadata": {
  "kernelspec": {
   "display_name": "math",
   "language": "python",
   "name": "python3"
  },
  "language_info": {
   "codemirror_mode": {
    "name": "ipython",
    "version": 3
   },
   "file_extension": ".py",
   "mimetype": "text/x-python",
   "name": "python",
   "nbconvert_exporter": "python",
   "pygments_lexer": "ipython3"
  }
 },
 "nbformat": 4,
 "nbformat_minor": 2
}
