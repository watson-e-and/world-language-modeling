{
 "cells": [
  {
   "cell_type": "markdown",
   "metadata": {},
   "source": [
    "# Extract Ethnologue data\n",
    "\n",
    "If we ever scrape again and get more data, use this script to recreate the total speakers, L1 and L2 data files "
   ]
  },
  {
   "cell_type": "code",
   "execution_count": null,
   "metadata": {},
   "outputs": [],
   "source": [
    "# Filepaths\n",
    "\n",
    "import os\n",
    "\n",
    "# rename these filepaths if you don't want to overwrite the original files\n",
    "total_speakers_filepath = os.path.join(\"..\", \"data\", \"cleaned_total_speakers.csv\")\n",
    "l1_speakers_filepath = os.path.join(\"..\", \"data\", \"cleaned_l1_speakers.csv\")\n",
    "l2_speakers_filepath = os.path.join(\"..\", \"data\", \"cleaned_l2_speakers.csv\")\n",
    "\n",
    "print(total_speakers_filepath)"
   ]
  },
  {
   "cell_type": "code",
   "execution_count": null,
   "metadata": {},
   "outputs": [],
   "source": [
    "import pandas as pd\n",
    "import numpy as np"
   ]
  },
  {
   "cell_type": "code",
   "execution_count": null,
   "metadata": {},
   "outputs": [],
   "source": [
    "# import data\n",
    "lang_df = pd.read_table(\"../populations.tsv\", sep=\"\\t\", header=None)\n",
    "\n",
    "# rename columns\n",
    "lang_df.rename(columns={0: \"Language\", 1: \"Country\", 2:16, 3:17, 4:18, 5:19, 6:20, 7:21, 8:22, 9:23, 10:25, 11:\"drop\"}, inplace=True)\n",
    "\n",
    "# Strip whitespace from the Language and Country columns\n",
    "lang_df[\"Language\"] = lang_df[\"Language\"].str.strip()\n",
    "lang_df[\"Country\"] = lang_df[\"Country\"].str.strip()\n",
    "\n",
    "# set the index to the first two columns\n",
    "lang_df.set_index([\"Language\", \"Country\"], inplace=True)\n",
    "\n",
    "\n",
    "lang_df"
   ]
  },
  {
   "cell_type": "markdown",
   "metadata": {},
   "source": [
    "## Total Speakers"
   ]
  },
  {
   "cell_type": "code",
   "execution_count": null,
   "metadata": {},
   "outputs": [],
   "source": [
    "# Grab just the total number of speakers (ie the first number in the tuple)\n",
    "\n",
    "def extract_total_speakers(cell):\n",
    "\n",
    "    if cell == 0:\n",
    "        return 0\n",
    "    \n",
    "    # try to check if the cell is nan\n",
    "    try:\n",
    "        if np.isnan(cell):\n",
    "            return 0\n",
    "    except:\n",
    "        pass\n",
    "\n",
    "    eval_cell = eval(cell)\n",
    "    if type(eval_cell) == tuple:\n",
    "        return eval_cell[0]\n",
    "    else:\n",
    "        return eval_cell\n",
    "    \n",
    "\n",
    "# Create a new df where each cell has just the total number of speakers\n",
    "total_speakers_df = lang_df.applymap(extract_total_speakers)\n",
    "# drop the column labeled \"drop\"\n",
    "total_speakers_df.drop(\"drop\", axis=1, inplace=True)\n",
    "total_speakers_df"
   ]
  },
  {
   "cell_type": "code",
   "execution_count": null,
   "metadata": {},
   "outputs": [],
   "source": [
    "edition_to_year= {13:1996, 14: 2000, 15:2005, 16:2009, 17:2014, 18:2015, 19:2016, 20:2017, 21:2018, 22:2019, 23:2020, 24:2021, 25:2022}\n",
    "\n",
    "\n",
    "\n",
    "total_speakers_df= total_speakers_df.rename(columns=edition_to_year)\n",
    "total_speakers_df= total_speakers_df.stack()\n",
    "total_speakers_df= total_speakers_df.unstack(\"Language\") \n",
    "\n",
    "# name the second index \"Year\"\n",
    "total_speakers_df.index.names = [\"Country\", \"Year\"]\n",
    "\n",
    "total_speakers_df"
   ]
  },
  {
   "cell_type": "markdown",
   "metadata": {},
   "source": [
    "## L1"
   ]
  },
  {
   "cell_type": "code",
   "execution_count": null,
   "metadata": {},
   "outputs": [],
   "source": [
    "# Grab just the L1 number of speakers (ie the second number in the tuple)\n",
    "\n",
    "def extract_L1_speakers(cell):\n",
    "\n",
    "    if cell == 0:\n",
    "        return 0\n",
    "    \n",
    "    # try to check if the cell is nan\n",
    "    try:\n",
    "        if np.isnan(cell):\n",
    "            return 0\n",
    "    except:\n",
    "        pass\n",
    "\n",
    "    eval_cell = eval(cell)\n",
    "    if type(eval_cell) == tuple:\n",
    "        return eval_cell[1]\n",
    "    else:\n",
    "        return 0\n",
    "    \n",
    "\n",
    "# Create a new df where each cell has just the total number of speakers\n",
    "l1_speakers_df = lang_df.applymap(extract_L1_speakers)\n",
    "# drop the column labeled \"drop\"\n",
    "l1_speakers_df.drop(\"drop\", axis=1, inplace=True)\n",
    "l1_speakers_df"
   ]
  },
  {
   "cell_type": "code",
   "execution_count": null,
   "metadata": {},
   "outputs": [],
   "source": [
    "l1_speakers_df= l1_speakers_df.rename(columns=edition_to_year)\n",
    "l1_speakers_df= l1_speakers_df.stack()\n",
    "l1_speakers_df= l1_speakers_df.unstack(\"Language\") \n",
    "\n",
    "# name the second index \"Year\"\n",
    "l1_speakers_df.index.names = [\"Country\", \"Year\"]\n",
    "\n",
    "l1_speakers_df"
   ]
  },
  {
   "cell_type": "markdown",
   "metadata": {},
   "source": [
    "## L2"
   ]
  },
  {
   "cell_type": "code",
   "execution_count": null,
   "metadata": {},
   "outputs": [],
   "source": [
    "# Grab just the L2 number of speakers (ie the second number in the tuple)\n",
    "\n",
    "def extract_L2_speakers(cell):\n",
    "\n",
    "    if cell == 0:\n",
    "        return 0\n",
    "    \n",
    "    # try to check if the cell is nan\n",
    "    try:\n",
    "        if np.isnan(cell):\n",
    "            return 0\n",
    "    except:\n",
    "        pass\n",
    "\n",
    "    eval_cell = eval(cell)\n",
    "    if type(eval_cell) == tuple:\n",
    "        return eval_cell[2]\n",
    "    else:\n",
    "        return 0\n",
    "    \n",
    "\n",
    "# Create a new df where each cell has just the total number of speakers\n",
    "l2_speakers_df = lang_df.applymap(extract_L2_speakers)\n",
    "# drop the column labeled \"drop\"\n",
    "l2_speakers_df.drop(\"drop\", axis=1, inplace=True)\n",
    "l2_speakers_df"
   ]
  },
  {
   "cell_type": "code",
   "execution_count": null,
   "metadata": {},
   "outputs": [],
   "source": [
    "l2_speakers_df= l2_speakers_df.rename(columns=edition_to_year)\n",
    "l2_speakers_df= l2_speakers_df.stack()\n",
    "l2_speakers_df= l2_speakers_df.unstack(\"Language\") \n",
    "\n",
    "# name the second index \"Year\"\n",
    "l2_speakers_df.index.names = [\"Country\", \"Year\"]\n",
    "\n",
    "l2_speakers_df"
   ]
  },
  {
   "cell_type": "code",
   "execution_count": null,
   "metadata": {},
   "outputs": [],
   "source": [
    "l2_speakers_df.loc[\"Czechia\"]"
   ]
  },
  {
   "cell_type": "markdown",
   "metadata": {},
   "source": [
    "# Fix Country Name Changes"
   ]
  },
  {
   "cell_type": "code",
   "execution_count": null,
   "metadata": {},
   "outputs": [],
   "source": [
    "def combine_country_with_two_names(name1, name2, df):\n",
    "    \"\"\"When a country changes names, we often have two rows for the same country. This function combines them into one row.\"\"\"\n",
    "    name1_df = df.loc[name1]\n",
    "    # print(1)\n",
    "    # print(name1_df)\n",
    "    name2_df = df.loc[name2]\n",
    "    # print(2)\n",
    "    # print(name2_df)\n",
    "\n",
    "    combined_df = name1_df.add(name2_df, fill_value=0)\n",
    "    # print(\"Combined\")\n",
    "    # print(combined_df)\n",
    "\n",
    "    # make a copy of the df\n",
    "    df_modified = df.copy()\n",
    "    # cols = df_modified.columns\n",
    "    # for col in cols:\n",
    "    #     df_modified.loc[name1, col] = combined_df[col]\n",
    "\n",
    "    # iterate through the rows, find name1, and add the right value from name2df\n",
    "    for row in df_modified.iterrows():\n",
    "        # print(row)\n",
    "        # print(row[0])\n",
    "        # print()\n",
    "        if row[0][0] == name1:\n",
    "            # print(\"Found name1\")\n",
    "            for col in df_modified.columns:\n",
    "                # print(combined_df.loc[row[0][1], col])\n",
    "                # print(df_modified.loc[row[0], col])\n",
    "                df_modified.loc[row[0], col] = combined_df.loc[row[0][1], col]\n",
    "        \n",
    "\n",
    "    return df_modified.drop(name2)"
   ]
  },
  {
   "cell_type": "code",
   "execution_count": null,
   "metadata": {},
   "outputs": [],
   "source": [
    "combine_country_with_two_names(\"Czechia\", \"Czech Republic\", total_speakers_df).loc[\"Czechia\"]\n"
   ]
  },
  {
   "cell_type": "code",
   "execution_count": null,
   "metadata": {},
   "outputs": [],
   "source": [
    "dfs = [total_speakers_df, l1_speakers_df, l2_speakers_df]\n",
    "\n",
    "new_dfs = []\n",
    "for df in dfs:\n",
    "    df = combine_country_with_two_names(\"Czechia\", \"Czech Republic\", df)\n",
    "    df = combine_country_with_two_names(\"Vietnam\", \"Viet Nam\", df)\n",
    "    df = combine_country_with_two_names(\"Eswatini\", \"Swaziland\", df)\n",
    "    df = combine_country_with_two_names(\"Taiwan\", \"China–Taiwan\", df)\n",
    "    df = combine_country_with_two_names(\"Hong Kong\", \"China–Hong Kong\", df)\n",
    "    df = combine_country_with_two_names(\"Macao\", \"China–Macao\", df)\n",
    "    new_dfs.append(df)\n",
    "\n",
    "\n",
    "total_speakers_df = new_dfs[0]\n",
    "l1_speakers_df = new_dfs[1]\n",
    "l2_speakers_df = new_dfs[2]"
   ]
  },
  {
   "cell_type": "code",
   "execution_count": null,
   "metadata": {},
   "outputs": [],
   "source": [
    "# verify that Czechia and Czech Republic are combined\n",
    "total_speakers_df.loc[\"Czechia\"]"
   ]
  },
  {
   "cell_type": "code",
   "execution_count": null,
   "metadata": {},
   "outputs": [],
   "source": [
    "# drop duplicated "
   ]
  },
  {
   "cell_type": "markdown",
   "metadata": {},
   "source": [
    "# Export to csv files"
   ]
  },
  {
   "cell_type": "code",
   "execution_count": null,
   "metadata": {},
   "outputs": [],
   "source": [
    "total_speakers_df.to_csv(total_speakers_filepath)\n",
    "l1_speakers_df.to_csv(l1_speakers_filepath)\n",
    "l2_speakers_df.to_csv(l2_speakers_filepath)"
   ]
  }
 ],
 "metadata": {
  "kernelspec": {
   "display_name": "math",
   "language": "python",
   "name": "python3"
  },
  "language_info": {
   "codemirror_mode": {
    "name": "ipython",
    "version": 3
   },
   "file_extension": ".py",
   "mimetype": "text/x-python",
   "name": "python",
   "nbconvert_exporter": "python",
   "pygments_lexer": "ipython3"
  }
 },
 "nbformat": 4,
 "nbformat_minor": 2
}
